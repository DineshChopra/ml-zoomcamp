{
 "cells": [
  {
   "cell_type": "markdown",
   "id": "c835d2df",
   "metadata": {},
   "source": [
    "# Model Evaluation on Car Price classification\n",
    "\n",
    "## [Kaggle Dataset](https://www.kaggle.com/datasets/CooperUnion/cardataset)"
   ]
  },
  {
   "cell_type": "code",
   "execution_count": 1,
   "id": "1390b891",
   "metadata": {},
   "outputs": [
    {
     "name": "stdout",
     "output_type": "stream",
     "text": [
      "--2023-10-03 09:31:27--  https://raw.githubusercontent.com/alexeygrigorev/mlbookcamp-code/master/chapter-02-car-price/data.csv\n",
      "Resolving raw.githubusercontent.com (raw.githubusercontent.com)... 2606:50c0:8000::154, 2606:50c0:8001::154, 2606:50c0:8002::154, ...\n",
      "Connecting to raw.githubusercontent.com (raw.githubusercontent.com)|2606:50c0:8000::154|:443... connected.\n",
      "HTTP request sent, awaiting response... 200 OK\n",
      "Length: 1475504 (1.4M) [text/plain]\n",
      "Saving to: ‘data.csv’\n",
      "\n",
      "data.csv            100%[===================>]   1.41M  1.87MB/s    in 0.8s    \n",
      "\n",
      "2023-10-03 09:31:29 (1.87 MB/s) - ‘data.csv’ saved [1475504/1475504]\n",
      "\n"
     ]
    }
   ],
   "source": [
    "!wget https://raw.githubusercontent.com/alexeygrigorev/mlbookcamp-code/master/chapter-02-car-price/data.csv"
   ]
  },
  {
   "cell_type": "markdown",
   "id": "04cc78f1",
   "metadata": {},
   "source": [
    "### Data preparation\n",
    "\n",
    "* Keep only the columns above\n",
    "* Lowercase the column names and replace spaces with underscores\n",
    "* Fill the missing values with 0 \n",
    "* Make the price binary (1 if above the average, 0 otherwise) - this will be our target variable `above_average`\n"
   ]
  },
  {
   "cell_type": "code",
   "execution_count": 2,
   "id": "355c58a3",
   "metadata": {},
   "outputs": [],
   "source": [
    "sel_col = ['Make', 'Model', 'Year', 'Engine HP', 'Engine Cylinders', 'Transmission Type', 'Vehicle Style', \n",
    "           'highway MPG', 'city mpg', 'MSRP']"
   ]
  },
  {
   "cell_type": "code",
   "execution_count": 4,
   "id": "e6472cde",
   "metadata": {},
   "outputs": [],
   "source": [
    "import pandas as pd\n",
    "df_orig = pd.read_csv('data.csv')"
   ]
  },
  {
   "cell_type": "code",
   "execution_count": 5,
   "id": "367f593b",
   "metadata": {},
   "outputs": [],
   "source": [
    "df = df_orig[sel_col]"
   ]
  },
  {
   "cell_type": "code",
   "execution_count": 11,
   "id": "bcd2bdcf",
   "metadata": {},
   "outputs": [
    {
     "data": {
      "text/html": [
       "<div>\n",
       "<style scoped>\n",
       "    .dataframe tbody tr th:only-of-type {\n",
       "        vertical-align: middle;\n",
       "    }\n",
       "\n",
       "    .dataframe tbody tr th {\n",
       "        vertical-align: top;\n",
       "    }\n",
       "\n",
       "    .dataframe thead th {\n",
       "        text-align: right;\n",
       "    }\n",
       "</style>\n",
       "<table border=\"1\" class=\"dataframe\">\n",
       "  <thead>\n",
       "    <tr style=\"text-align: right;\">\n",
       "      <th></th>\n",
       "      <th>Make</th>\n",
       "      <th>Model</th>\n",
       "      <th>Year</th>\n",
       "      <th>Engine HP</th>\n",
       "      <th>Engine Cylinders</th>\n",
       "      <th>Transmission Type</th>\n",
       "      <th>Vehicle Style</th>\n",
       "      <th>highway MPG</th>\n",
       "      <th>city mpg</th>\n",
       "      <th>MSRP</th>\n",
       "    </tr>\n",
       "  </thead>\n",
       "  <tbody>\n",
       "    <tr>\n",
       "      <th>0</th>\n",
       "      <td>BMW</td>\n",
       "      <td>1 Series M</td>\n",
       "      <td>2011</td>\n",
       "      <td>335.0</td>\n",
       "      <td>6.0</td>\n",
       "      <td>MANUAL</td>\n",
       "      <td>Coupe</td>\n",
       "      <td>26</td>\n",
       "      <td>19</td>\n",
       "      <td>46135</td>\n",
       "    </tr>\n",
       "    <tr>\n",
       "      <th>1</th>\n",
       "      <td>BMW</td>\n",
       "      <td>1 Series</td>\n",
       "      <td>2011</td>\n",
       "      <td>300.0</td>\n",
       "      <td>6.0</td>\n",
       "      <td>MANUAL</td>\n",
       "      <td>Convertible</td>\n",
       "      <td>28</td>\n",
       "      <td>19</td>\n",
       "      <td>40650</td>\n",
       "    </tr>\n",
       "    <tr>\n",
       "      <th>2</th>\n",
       "      <td>BMW</td>\n",
       "      <td>1 Series</td>\n",
       "      <td>2011</td>\n",
       "      <td>300.0</td>\n",
       "      <td>6.0</td>\n",
       "      <td>MANUAL</td>\n",
       "      <td>Coupe</td>\n",
       "      <td>28</td>\n",
       "      <td>20</td>\n",
       "      <td>36350</td>\n",
       "    </tr>\n",
       "    <tr>\n",
       "      <th>3</th>\n",
       "      <td>BMW</td>\n",
       "      <td>1 Series</td>\n",
       "      <td>2011</td>\n",
       "      <td>230.0</td>\n",
       "      <td>6.0</td>\n",
       "      <td>MANUAL</td>\n",
       "      <td>Coupe</td>\n",
       "      <td>28</td>\n",
       "      <td>18</td>\n",
       "      <td>29450</td>\n",
       "    </tr>\n",
       "    <tr>\n",
       "      <th>4</th>\n",
       "      <td>BMW</td>\n",
       "      <td>1 Series</td>\n",
       "      <td>2011</td>\n",
       "      <td>230.0</td>\n",
       "      <td>6.0</td>\n",
       "      <td>MANUAL</td>\n",
       "      <td>Convertible</td>\n",
       "      <td>28</td>\n",
       "      <td>18</td>\n",
       "      <td>34500</td>\n",
       "    </tr>\n",
       "  </tbody>\n",
       "</table>\n",
       "</div>"
      ],
      "text/plain": [
       "  Make       Model  Year  Engine HP  Engine Cylinders Transmission Type  \\\n",
       "0  BMW  1 Series M  2011      335.0               6.0            MANUAL   \n",
       "1  BMW    1 Series  2011      300.0               6.0            MANUAL   \n",
       "2  BMW    1 Series  2011      300.0               6.0            MANUAL   \n",
       "3  BMW    1 Series  2011      230.0               6.0            MANUAL   \n",
       "4  BMW    1 Series  2011      230.0               6.0            MANUAL   \n",
       "\n",
       "  Vehicle Style  highway MPG  city mpg   MSRP  \n",
       "0         Coupe           26        19  46135  \n",
       "1   Convertible           28        19  40650  \n",
       "2         Coupe           28        20  36350  \n",
       "3         Coupe           28        18  29450  \n",
       "4   Convertible           28        18  34500  "
      ]
     },
     "execution_count": 11,
     "metadata": {},
     "output_type": "execute_result"
    }
   ],
   "source": [
    "df.head()"
   ]
  },
  {
   "cell_type": "code",
   "execution_count": 12,
   "id": "8cf80a77",
   "metadata": {},
   "outputs": [],
   "source": [
    "df.columns = df.columns.str.lower().str.replace(\" \", \"_\")"
   ]
  },
  {
   "cell_type": "code",
   "execution_count": 13,
   "id": "f127b276",
   "metadata": {},
   "outputs": [
    {
     "data": {
      "text/html": [
       "<div>\n",
       "<style scoped>\n",
       "    .dataframe tbody tr th:only-of-type {\n",
       "        vertical-align: middle;\n",
       "    }\n",
       "\n",
       "    .dataframe tbody tr th {\n",
       "        vertical-align: top;\n",
       "    }\n",
       "\n",
       "    .dataframe thead th {\n",
       "        text-align: right;\n",
       "    }\n",
       "</style>\n",
       "<table border=\"1\" class=\"dataframe\">\n",
       "  <thead>\n",
       "    <tr style=\"text-align: right;\">\n",
       "      <th></th>\n",
       "      <th>make</th>\n",
       "      <th>model</th>\n",
       "      <th>year</th>\n",
       "      <th>engine_hp</th>\n",
       "      <th>engine_cylinders</th>\n",
       "      <th>transmission_type</th>\n",
       "      <th>vehicle_style</th>\n",
       "      <th>highway_mpg</th>\n",
       "      <th>city_mpg</th>\n",
       "      <th>msrp</th>\n",
       "    </tr>\n",
       "  </thead>\n",
       "  <tbody>\n",
       "    <tr>\n",
       "      <th>0</th>\n",
       "      <td>BMW</td>\n",
       "      <td>1 Series M</td>\n",
       "      <td>2011</td>\n",
       "      <td>335.0</td>\n",
       "      <td>6.0</td>\n",
       "      <td>MANUAL</td>\n",
       "      <td>Coupe</td>\n",
       "      <td>26</td>\n",
       "      <td>19</td>\n",
       "      <td>46135</td>\n",
       "    </tr>\n",
       "    <tr>\n",
       "      <th>1</th>\n",
       "      <td>BMW</td>\n",
       "      <td>1 Series</td>\n",
       "      <td>2011</td>\n",
       "      <td>300.0</td>\n",
       "      <td>6.0</td>\n",
       "      <td>MANUAL</td>\n",
       "      <td>Convertible</td>\n",
       "      <td>28</td>\n",
       "      <td>19</td>\n",
       "      <td>40650</td>\n",
       "    </tr>\n",
       "    <tr>\n",
       "      <th>2</th>\n",
       "      <td>BMW</td>\n",
       "      <td>1 Series</td>\n",
       "      <td>2011</td>\n",
       "      <td>300.0</td>\n",
       "      <td>6.0</td>\n",
       "      <td>MANUAL</td>\n",
       "      <td>Coupe</td>\n",
       "      <td>28</td>\n",
       "      <td>20</td>\n",
       "      <td>36350</td>\n",
       "    </tr>\n",
       "    <tr>\n",
       "      <th>3</th>\n",
       "      <td>BMW</td>\n",
       "      <td>1 Series</td>\n",
       "      <td>2011</td>\n",
       "      <td>230.0</td>\n",
       "      <td>6.0</td>\n",
       "      <td>MANUAL</td>\n",
       "      <td>Coupe</td>\n",
       "      <td>28</td>\n",
       "      <td>18</td>\n",
       "      <td>29450</td>\n",
       "    </tr>\n",
       "    <tr>\n",
       "      <th>4</th>\n",
       "      <td>BMW</td>\n",
       "      <td>1 Series</td>\n",
       "      <td>2011</td>\n",
       "      <td>230.0</td>\n",
       "      <td>6.0</td>\n",
       "      <td>MANUAL</td>\n",
       "      <td>Convertible</td>\n",
       "      <td>28</td>\n",
       "      <td>18</td>\n",
       "      <td>34500</td>\n",
       "    </tr>\n",
       "  </tbody>\n",
       "</table>\n",
       "</div>"
      ],
      "text/plain": [
       "  make       model  year  engine_hp  engine_cylinders transmission_type  \\\n",
       "0  BMW  1 Series M  2011      335.0               6.0            MANUAL   \n",
       "1  BMW    1 Series  2011      300.0               6.0            MANUAL   \n",
       "2  BMW    1 Series  2011      300.0               6.0            MANUAL   \n",
       "3  BMW    1 Series  2011      230.0               6.0            MANUAL   \n",
       "4  BMW    1 Series  2011      230.0               6.0            MANUAL   \n",
       "\n",
       "  vehicle_style  highway_mpg  city_mpg   msrp  \n",
       "0         Coupe           26        19  46135  \n",
       "1   Convertible           28        19  40650  \n",
       "2         Coupe           28        20  36350  \n",
       "3         Coupe           28        18  29450  \n",
       "4   Convertible           28        18  34500  "
      ]
     },
     "execution_count": 13,
     "metadata": {},
     "output_type": "execute_result"
    }
   ],
   "source": [
    "df.head()"
   ]
  },
  {
   "cell_type": "markdown",
   "id": "646dd071",
   "metadata": {},
   "source": [
    "#### Fill the missing values with 0"
   ]
  },
  {
   "cell_type": "code",
   "execution_count": 14,
   "id": "bdab5052",
   "metadata": {},
   "outputs": [
    {
     "data": {
      "text/plain": [
       "make                  0\n",
       "model                 0\n",
       "year                  0\n",
       "engine_hp            69\n",
       "engine_cylinders     30\n",
       "transmission_type     0\n",
       "vehicle_style         0\n",
       "highway_mpg           0\n",
       "city_mpg              0\n",
       "msrp                  0\n",
       "dtype: int64"
      ]
     },
     "execution_count": 14,
     "metadata": {},
     "output_type": "execute_result"
    }
   ],
   "source": [
    "df.isnull().sum()"
   ]
  },
  {
   "cell_type": "code",
   "execution_count": 15,
   "id": "05523ee6",
   "metadata": {},
   "outputs": [
    {
     "name": "stderr",
     "output_type": "stream",
     "text": [
      "/var/folders/qz/wxrcy0tx4y98bsrt32ftxztm0000gn/T/ipykernel_24768/1020030758.py:1: SettingWithCopyWarning: \n",
      "A value is trying to be set on a copy of a slice from a DataFrame\n",
      "\n",
      "See the caveats in the documentation: https://pandas.pydata.org/pandas-docs/stable/user_guide/indexing.html#returning-a-view-versus-a-copy\n",
      "  df.fillna(value=0, inplace=True)\n"
     ]
    }
   ],
   "source": [
    "df.fillna(value=0, inplace=True)"
   ]
  },
  {
   "cell_type": "code",
   "execution_count": 16,
   "id": "b3789bf8",
   "metadata": {},
   "outputs": [
    {
     "data": {
      "text/plain": [
       "make                 0\n",
       "model                0\n",
       "year                 0\n",
       "engine_hp            0\n",
       "engine_cylinders     0\n",
       "transmission_type    0\n",
       "vehicle_style        0\n",
       "highway_mpg          0\n",
       "city_mpg             0\n",
       "msrp                 0\n",
       "dtype: int64"
      ]
     },
     "execution_count": 16,
     "metadata": {},
     "output_type": "execute_result"
    }
   ],
   "source": [
    "df.isnull().sum()"
   ]
  },
  {
   "cell_type": "markdown",
   "id": "414691b1",
   "metadata": {},
   "source": [
    "#### Make the price binary (1 if above the average, 0 otherwise) - this will be our target variable `above_average`"
   ]
  },
  {
   "cell_type": "code",
   "execution_count": 19,
   "id": "50f7219d",
   "metadata": {},
   "outputs": [
    {
     "data": {
      "text/plain": [
       "40594.737032063116"
      ]
     },
     "execution_count": 19,
     "metadata": {},
     "output_type": "execute_result"
    }
   ],
   "source": [
    "msrp_avg = df.msrp.mean()\n",
    "msrp_avg"
   ]
  },
  {
   "cell_type": "code",
   "execution_count": 25,
   "id": "e9e11573",
   "metadata": {},
   "outputs": [
    {
     "name": "stderr",
     "output_type": "stream",
     "text": [
      "/var/folders/qz/wxrcy0tx4y98bsrt32ftxztm0000gn/T/ipykernel_24768/3204204888.py:1: SettingWithCopyWarning: \n",
      "A value is trying to be set on a copy of a slice from a DataFrame.\n",
      "Try using .loc[row_indexer,col_indexer] = value instead\n",
      "\n",
      "See the caveats in the documentation: https://pandas.pydata.org/pandas-docs/stable/user_guide/indexing.html#returning-a-view-versus-a-copy\n",
      "  df['above_average'] = (df.msrp >= msrp_avg).astype(int)\n"
     ]
    }
   ],
   "source": [
    "df['above_average'] = (df.msrp >= msrp_avg).astype(int)"
   ]
  },
  {
   "cell_type": "code",
   "execution_count": 26,
   "id": "41080c63",
   "metadata": {},
   "outputs": [
    {
     "data": {
      "text/html": [
       "<div>\n",
       "<style scoped>\n",
       "    .dataframe tbody tr th:only-of-type {\n",
       "        vertical-align: middle;\n",
       "    }\n",
       "\n",
       "    .dataframe tbody tr th {\n",
       "        vertical-align: top;\n",
       "    }\n",
       "\n",
       "    .dataframe thead th {\n",
       "        text-align: right;\n",
       "    }\n",
       "</style>\n",
       "<table border=\"1\" class=\"dataframe\">\n",
       "  <thead>\n",
       "    <tr style=\"text-align: right;\">\n",
       "      <th></th>\n",
       "      <th>make</th>\n",
       "      <th>model</th>\n",
       "      <th>year</th>\n",
       "      <th>engine_hp</th>\n",
       "      <th>engine_cylinders</th>\n",
       "      <th>transmission_type</th>\n",
       "      <th>vehicle_style</th>\n",
       "      <th>highway_mpg</th>\n",
       "      <th>city_mpg</th>\n",
       "      <th>msrp</th>\n",
       "      <th>above_average</th>\n",
       "    </tr>\n",
       "  </thead>\n",
       "  <tbody>\n",
       "    <tr>\n",
       "      <th>0</th>\n",
       "      <td>BMW</td>\n",
       "      <td>1 Series M</td>\n",
       "      <td>2011</td>\n",
       "      <td>335.0</td>\n",
       "      <td>6.0</td>\n",
       "      <td>MANUAL</td>\n",
       "      <td>Coupe</td>\n",
       "      <td>26</td>\n",
       "      <td>19</td>\n",
       "      <td>46135</td>\n",
       "      <td>1</td>\n",
       "    </tr>\n",
       "    <tr>\n",
       "      <th>1</th>\n",
       "      <td>BMW</td>\n",
       "      <td>1 Series</td>\n",
       "      <td>2011</td>\n",
       "      <td>300.0</td>\n",
       "      <td>6.0</td>\n",
       "      <td>MANUAL</td>\n",
       "      <td>Convertible</td>\n",
       "      <td>28</td>\n",
       "      <td>19</td>\n",
       "      <td>40650</td>\n",
       "      <td>1</td>\n",
       "    </tr>\n",
       "    <tr>\n",
       "      <th>2</th>\n",
       "      <td>BMW</td>\n",
       "      <td>1 Series</td>\n",
       "      <td>2011</td>\n",
       "      <td>300.0</td>\n",
       "      <td>6.0</td>\n",
       "      <td>MANUAL</td>\n",
       "      <td>Coupe</td>\n",
       "      <td>28</td>\n",
       "      <td>20</td>\n",
       "      <td>36350</td>\n",
       "      <td>0</td>\n",
       "    </tr>\n",
       "    <tr>\n",
       "      <th>3</th>\n",
       "      <td>BMW</td>\n",
       "      <td>1 Series</td>\n",
       "      <td>2011</td>\n",
       "      <td>230.0</td>\n",
       "      <td>6.0</td>\n",
       "      <td>MANUAL</td>\n",
       "      <td>Coupe</td>\n",
       "      <td>28</td>\n",
       "      <td>18</td>\n",
       "      <td>29450</td>\n",
       "      <td>0</td>\n",
       "    </tr>\n",
       "    <tr>\n",
       "      <th>4</th>\n",
       "      <td>BMW</td>\n",
       "      <td>1 Series</td>\n",
       "      <td>2011</td>\n",
       "      <td>230.0</td>\n",
       "      <td>6.0</td>\n",
       "      <td>MANUAL</td>\n",
       "      <td>Convertible</td>\n",
       "      <td>28</td>\n",
       "      <td>18</td>\n",
       "      <td>34500</td>\n",
       "      <td>0</td>\n",
       "    </tr>\n",
       "  </tbody>\n",
       "</table>\n",
       "</div>"
      ],
      "text/plain": [
       "  make       model  year  engine_hp  engine_cylinders transmission_type  \\\n",
       "0  BMW  1 Series M  2011      335.0               6.0            MANUAL   \n",
       "1  BMW    1 Series  2011      300.0               6.0            MANUAL   \n",
       "2  BMW    1 Series  2011      300.0               6.0            MANUAL   \n",
       "3  BMW    1 Series  2011      230.0               6.0            MANUAL   \n",
       "4  BMW    1 Series  2011      230.0               6.0            MANUAL   \n",
       "\n",
       "  vehicle_style  highway_mpg  city_mpg   msrp  above_average  \n",
       "0         Coupe           26        19  46135              1  \n",
       "1   Convertible           28        19  40650              1  \n",
       "2         Coupe           28        20  36350              0  \n",
       "3         Coupe           28        18  29450              0  \n",
       "4   Convertible           28        18  34500              0  "
      ]
     },
     "execution_count": 26,
     "metadata": {},
     "output_type": "execute_result"
    }
   ],
   "source": [
    "df.head()"
   ]
  },
  {
   "cell_type": "code",
   "execution_count": 27,
   "id": "819047b6",
   "metadata": {},
   "outputs": [],
   "source": [
    "target = 'above_average'"
   ]
  },
  {
   "cell_type": "markdown",
   "id": "2ca1397c",
   "metadata": {},
   "source": [
    "### Split the data into 3 parts: train/validation/test with 60%/20%/20% distribution. Use `train_test_split` function for that with `random_state=1`"
   ]
  },
  {
   "cell_type": "code",
   "execution_count": 28,
   "id": "deaf41dd",
   "metadata": {},
   "outputs": [],
   "source": [
    "from sklearn.model_selection import train_test_split\n",
    "\n",
    "df_full_train, df_test = train_test_split(df, test_size=0.2, random_state=1)\n",
    "df_train, df_val = train_test_split(df_full_train, test_size=0.25, random_state=1)\n"
   ]
  },
  {
   "cell_type": "code",
   "execution_count": 34,
   "id": "0086babd",
   "metadata": {},
   "outputs": [
    {
     "data": {
      "text/plain": [
       "(78628, 26213, 26213)"
      ]
     },
     "execution_count": 34,
     "metadata": {},
     "output_type": "execute_result"
    }
   ],
   "source": [
    "df_train.size, df_val.size, df_test.size"
   ]
  },
  {
   "cell_type": "code",
   "execution_count": 54,
   "id": "d3fdf6a4",
   "metadata": {},
   "outputs": [],
   "source": [
    "df_train = df_train.reset_index(drop=False)\n",
    "df_val = df_val.reset_index(drop=False)\n",
    "df_test = df_test.reset_index(drop=False)\n",
    "\n",
    "y_train = df_train[target]\n",
    "y_val = df_val[target]\n",
    "y_test = df_test[target]\n",
    "\n",
    "del df_train[target]\n",
    "del df_val[target]\n",
    "del df_test[target]"
   ]
  },
  {
   "cell_type": "code",
   "execution_count": 55,
   "id": "96de936f",
   "metadata": {},
   "outputs": [],
   "source": [
    "del df_train['msrp']\n",
    "del df_val['msrp']\n",
    "del df_test['msrp']"
   ]
  },
  {
   "cell_type": "markdown",
   "id": "d9f7f4ef",
   "metadata": {},
   "source": [
    "### Question 1: ROC AUC feature importance\n",
    "\n",
    "ROC AUC could also be used to evaluate feature importance of numerical variables. \n",
    "\n",
    "Let's do that\n",
    "\n",
    "* For each numerical variable, use it as score and compute AUC with the `above_average` variable\n",
    "* Use the training dataset for that\n",
    "\n",
    "\n",
    "If your AUC is < 0.5, invert this variable by putting \"-\" in front\n",
    "\n",
    "(e.g. `-df_train['engine_hp']`)\n",
    "\n",
    "AUC can go below 0.5 if the variable is negatively correlated with the target varialble. You can change the direction of the correlation by negating this variable - then negative correlation becomes positive.\n",
    "\n",
    "Which numerical variable (among the following 4) has the highest AUC?\n",
    "\n",
    "- `engine_hp`\n",
    "- `engine_cylinders`\n",
    "- `highway_mpg`\n",
    "- `city_mpg`"
   ]
  },
  {
   "cell_type": "code",
   "execution_count": 56,
   "id": "9cc36314",
   "metadata": {},
   "outputs": [
    {
     "data": {
      "text/html": [
       "<div>\n",
       "<style scoped>\n",
       "    .dataframe tbody tr th:only-of-type {\n",
       "        vertical-align: middle;\n",
       "    }\n",
       "\n",
       "    .dataframe tbody tr th {\n",
       "        vertical-align: top;\n",
       "    }\n",
       "\n",
       "    .dataframe thead th {\n",
       "        text-align: right;\n",
       "    }\n",
       "</style>\n",
       "<table border=\"1\" class=\"dataframe\">\n",
       "  <thead>\n",
       "    <tr style=\"text-align: right;\">\n",
       "      <th></th>\n",
       "      <th>index</th>\n",
       "      <th>make</th>\n",
       "      <th>model</th>\n",
       "      <th>year</th>\n",
       "      <th>engine_hp</th>\n",
       "      <th>engine_cylinders</th>\n",
       "      <th>transmission_type</th>\n",
       "      <th>vehicle_style</th>\n",
       "      <th>highway_mpg</th>\n",
       "      <th>city_mpg</th>\n",
       "    </tr>\n",
       "  </thead>\n",
       "  <tbody>\n",
       "    <tr>\n",
       "      <th>0</th>\n",
       "      <td>5727</td>\n",
       "      <td>Toyota</td>\n",
       "      <td>Highlander Hybrid</td>\n",
       "      <td>2016</td>\n",
       "      <td>280.0</td>\n",
       "      <td>6.0</td>\n",
       "      <td>AUTOMATIC</td>\n",
       "      <td>4dr SUV</td>\n",
       "      <td>28</td>\n",
       "      <td>27</td>\n",
       "    </tr>\n",
       "    <tr>\n",
       "      <th>1</th>\n",
       "      <td>5814</td>\n",
       "      <td>Chevrolet</td>\n",
       "      <td>Impala Limited</td>\n",
       "      <td>2014</td>\n",
       "      <td>300.0</td>\n",
       "      <td>6.0</td>\n",
       "      <td>AUTOMATIC</td>\n",
       "      <td>Sedan</td>\n",
       "      <td>30</td>\n",
       "      <td>18</td>\n",
       "    </tr>\n",
       "    <tr>\n",
       "      <th>2</th>\n",
       "      <td>8450</td>\n",
       "      <td>Buick</td>\n",
       "      <td>Regal</td>\n",
       "      <td>2016</td>\n",
       "      <td>259.0</td>\n",
       "      <td>4.0</td>\n",
       "      <td>AUTOMATIC</td>\n",
       "      <td>Sedan</td>\n",
       "      <td>27</td>\n",
       "      <td>19</td>\n",
       "    </tr>\n",
       "    <tr>\n",
       "      <th>3</th>\n",
       "      <td>2396</td>\n",
       "      <td>Volkswagen</td>\n",
       "      <td>CC</td>\n",
       "      <td>2015</td>\n",
       "      <td>280.0</td>\n",
       "      <td>6.0</td>\n",
       "      <td>AUTOMATED_MANUAL</td>\n",
       "      <td>Sedan</td>\n",
       "      <td>25</td>\n",
       "      <td>17</td>\n",
       "    </tr>\n",
       "    <tr>\n",
       "      <th>4</th>\n",
       "      <td>5494</td>\n",
       "      <td>Dodge</td>\n",
       "      <td>Grand Caravan</td>\n",
       "      <td>2016</td>\n",
       "      <td>283.0</td>\n",
       "      <td>6.0</td>\n",
       "      <td>AUTOMATIC</td>\n",
       "      <td>Passenger Minivan</td>\n",
       "      <td>25</td>\n",
       "      <td>17</td>\n",
       "    </tr>\n",
       "  </tbody>\n",
       "</table>\n",
       "</div>"
      ],
      "text/plain": [
       "   index        make              model  year  engine_hp  engine_cylinders  \\\n",
       "0   5727      Toyota  Highlander Hybrid  2016      280.0               6.0   \n",
       "1   5814   Chevrolet     Impala Limited  2014      300.0               6.0   \n",
       "2   8450       Buick              Regal  2016      259.0               4.0   \n",
       "3   2396  Volkswagen                 CC  2015      280.0               6.0   \n",
       "4   5494       Dodge      Grand Caravan  2016      283.0               6.0   \n",
       "\n",
       "  transmission_type      vehicle_style  highway_mpg  city_mpg  \n",
       "0         AUTOMATIC            4dr SUV           28        27  \n",
       "1         AUTOMATIC              Sedan           30        18  \n",
       "2         AUTOMATIC              Sedan           27        19  \n",
       "3  AUTOMATED_MANUAL              Sedan           25        17  \n",
       "4         AUTOMATIC  Passenger Minivan           25        17  "
      ]
     },
     "execution_count": 56,
     "metadata": {},
     "output_type": "execute_result"
    }
   ],
   "source": [
    "# Find numerical features\n",
    "df_train.head()"
   ]
  },
  {
   "cell_type": "code",
   "execution_count": 57,
   "id": "85f5f385",
   "metadata": {},
   "outputs": [],
   "source": [
    "num_features = ['engine_hp', 'engine_cylinders', 'highway_mpg', 'city_mpg']"
   ]
  },
  {
   "cell_type": "code",
   "execution_count": 58,
   "id": "a01024e1",
   "metadata": {},
   "outputs": [
    {
     "data": {
      "text/html": [
       "<div>\n",
       "<style scoped>\n",
       "    .dataframe tbody tr th:only-of-type {\n",
       "        vertical-align: middle;\n",
       "    }\n",
       "\n",
       "    .dataframe tbody tr th {\n",
       "        vertical-align: top;\n",
       "    }\n",
       "\n",
       "    .dataframe thead th {\n",
       "        text-align: right;\n",
       "    }\n",
       "</style>\n",
       "<table border=\"1\" class=\"dataframe\">\n",
       "  <thead>\n",
       "    <tr style=\"text-align: right;\">\n",
       "      <th></th>\n",
       "      <th>engine_hp</th>\n",
       "      <th>engine_cylinders</th>\n",
       "      <th>highway_mpg</th>\n",
       "      <th>city_mpg</th>\n",
       "    </tr>\n",
       "  </thead>\n",
       "  <tbody>\n",
       "    <tr>\n",
       "      <th>0</th>\n",
       "      <td>280.0</td>\n",
       "      <td>6.0</td>\n",
       "      <td>28</td>\n",
       "      <td>27</td>\n",
       "    </tr>\n",
       "    <tr>\n",
       "      <th>1</th>\n",
       "      <td>300.0</td>\n",
       "      <td>6.0</td>\n",
       "      <td>30</td>\n",
       "      <td>18</td>\n",
       "    </tr>\n",
       "    <tr>\n",
       "      <th>2</th>\n",
       "      <td>259.0</td>\n",
       "      <td>4.0</td>\n",
       "      <td>27</td>\n",
       "      <td>19</td>\n",
       "    </tr>\n",
       "    <tr>\n",
       "      <th>3</th>\n",
       "      <td>280.0</td>\n",
       "      <td>6.0</td>\n",
       "      <td>25</td>\n",
       "      <td>17</td>\n",
       "    </tr>\n",
       "    <tr>\n",
       "      <th>4</th>\n",
       "      <td>283.0</td>\n",
       "      <td>6.0</td>\n",
       "      <td>25</td>\n",
       "      <td>17</td>\n",
       "    </tr>\n",
       "  </tbody>\n",
       "</table>\n",
       "</div>"
      ],
      "text/plain": [
       "   engine_hp  engine_cylinders  highway_mpg  city_mpg\n",
       "0      280.0               6.0           28        27\n",
       "1      300.0               6.0           30        18\n",
       "2      259.0               4.0           27        19\n",
       "3      280.0               6.0           25        17\n",
       "4      283.0               6.0           25        17"
      ]
     },
     "execution_count": 58,
     "metadata": {},
     "output_type": "execute_result"
    }
   ],
   "source": [
    "df_train[num_features].head()"
   ]
  },
  {
   "cell_type": "code",
   "execution_count": 59,
   "id": "5cf16313",
   "metadata": {},
   "outputs": [
    {
     "name": "stdout",
     "output_type": "stream",
     "text": [
      "engine_hp, 0.9171031265539011\n",
      "engine_cylinders, 0.766116490165669\n",
      "highway_mpg, 0.6330587871772013\n",
      "city_mpg, 0.6734244643245233\n"
     ]
    }
   ],
   "source": [
    "from sklearn.metrics import roc_auc_score\n",
    "for feature in num_features:\n",
    "    auc = roc_auc_score(y_train, df_train[feature])\n",
    "    if auc < 0.5:\n",
    "        auc = roc_auc_score(y_train, -df_train[feature])\n",
    "    print(f\"{feature}, {auc}\")"
   ]
  },
  {
   "cell_type": "markdown",
   "id": "f0f96f6c",
   "metadata": {},
   "source": [
    "> **Answer** `engine_hp`"
   ]
  },
  {
   "cell_type": "markdown",
   "id": "6c67a14e",
   "metadata": {},
   "source": [
    "### Question 2: Training the model\n",
    "\n",
    "Apply one-hot-encoding using `DictVectorizer` and train the logistic regression with these parameters:\n",
    "\n",
    "```python\n",
    "LogisticRegression(solver='liblinear', C=1.0, max_iter=1000)\n",
    "```\n",
    "\n",
    "What's the AUC of this model on the validation dataset? (round to 3 digits)\n",
    "\n",
    "- 0.678\n",
    "- 0.779\n",
    "- 0.878\n",
    "- 0.979"
   ]
  },
  {
   "cell_type": "code",
   "execution_count": 65,
   "id": "bc5c3838",
   "metadata": {},
   "outputs": [],
   "source": [
    "from sklearn.feature_extraction import DictVectorizer\n",
    "from sklearn.linear_model import LogisticRegression"
   ]
  },
  {
   "cell_type": "code",
   "execution_count": 140,
   "id": "d2eea5b0",
   "metadata": {},
   "outputs": [],
   "source": [
    "def train(df_train, y_train, C=1.0):\n",
    "    dv = DictVectorizer(sparse = False)\n",
    "\n",
    "    train_dicts = df_train.to_dict(orient='records')\n",
    "\n",
    "    X_train = dv.fit_transform(train_dicts)\n",
    "\n",
    "    model = LogisticRegression(solver='liblinear', C=C, max_iter=1000)\n",
    "    model.fit(X_train, y_train)\n",
    "    \n",
    "    return dv, model\n"
   ]
  },
  {
   "cell_type": "code",
   "execution_count": 141,
   "id": "a53fef90",
   "metadata": {},
   "outputs": [],
   "source": [
    "dv, model = train(df_train, y_train)"
   ]
  },
  {
   "cell_type": "code",
   "execution_count": 142,
   "id": "2cd871b8",
   "metadata": {},
   "outputs": [],
   "source": [
    "def predict(df, dv, model):\n",
    "    df_dicts = df.to_dict(orient='records')\n",
    "    X = dv.transform(df_dicts)\n",
    "    y_pred = model.predict(X)\n",
    "    return y_pred"
   ]
  },
  {
   "cell_type": "code",
   "execution_count": 143,
   "id": "1155cda1",
   "metadata": {},
   "outputs": [],
   "source": [
    "y_pred = predict(df_val, dv, model)"
   ]
  },
  {
   "cell_type": "code",
   "execution_count": 144,
   "id": "cafcda8b",
   "metadata": {},
   "outputs": [],
   "source": [
    "auc = roc_auc_score(y_val, y_pred)"
   ]
  },
  {
   "cell_type": "code",
   "execution_count": 145,
   "id": "6182f633",
   "metadata": {},
   "outputs": [
    {
     "data": {
      "text/plain": [
       "0.887"
      ]
     },
     "execution_count": 145,
     "metadata": {},
     "output_type": "execute_result"
    }
   ],
   "source": [
    "round(auc, 3)"
   ]
  },
  {
   "cell_type": "markdown",
   "id": "e136de62",
   "metadata": {},
   "source": [
    "> **Answer** `0.878 is nearest`"
   ]
  },
  {
   "cell_type": "markdown",
   "id": "18a7d26a",
   "metadata": {},
   "source": [
    "### Question 3: Precision and Recall\n",
    "\n",
    "Now let's compute precision and recall for our model.\n",
    "\n",
    "* Evaluate the model on all thresholds from 0.0 to 1.0 with step 0.01\n",
    "* For each threshold, compute precision and recall\n",
    "* Plot them\n",
    "\n",
    "At which threshold precision and recall curves intersect?\n",
    "\n",
    "* 0.28\n",
    "* 0.48\n",
    "* 0.68\n",
    "* 0.88"
   ]
  },
  {
   "cell_type": "code",
   "execution_count": 76,
   "id": "2d7e95ce",
   "metadata": {},
   "outputs": [
    {
     "data": {
      "text/plain": [
       "array([0.  , 0.01, 0.02, 0.03, 0.04, 0.05, 0.06, 0.07, 0.08, 0.09, 0.1 ,\n",
       "       0.11, 0.12, 0.13, 0.14, 0.15, 0.16, 0.17, 0.18, 0.19, 0.2 , 0.21,\n",
       "       0.22, 0.23, 0.24, 0.25, 0.26, 0.27, 0.28, 0.29, 0.3 , 0.31, 0.32,\n",
       "       0.33, 0.34, 0.35, 0.36, 0.37, 0.38, 0.39, 0.4 , 0.41, 0.42, 0.43,\n",
       "       0.44, 0.45, 0.46, 0.47, 0.48, 0.49, 0.5 , 0.51, 0.52, 0.53, 0.54,\n",
       "       0.55, 0.56, 0.57, 0.58, 0.59, 0.6 , 0.61, 0.62, 0.63, 0.64, 0.65,\n",
       "       0.66, 0.67, 0.68, 0.69, 0.7 , 0.71, 0.72, 0.73, 0.74, 0.75, 0.76,\n",
       "       0.77, 0.78, 0.79, 0.8 , 0.81, 0.82, 0.83, 0.84, 0.85, 0.86, 0.87,\n",
       "       0.88, 0.89, 0.9 , 0.91, 0.92, 0.93, 0.94, 0.95, 0.96, 0.97, 0.98,\n",
       "       0.99, 1.  ])"
      ]
     },
     "execution_count": 76,
     "metadata": {},
     "output_type": "execute_result"
    }
   ],
   "source": [
    "import numpy as np\n",
    "thresholds = np.linspace(0, 1, 101)\n",
    "thresholds"
   ]
  },
  {
   "cell_type": "code",
   "execution_count": 117,
   "id": "a120b54c",
   "metadata": {},
   "outputs": [],
   "source": [
    "actual_positive = y_val == 1\n",
    "actual_negative = y_val != 1"
   ]
  },
  {
   "cell_type": "code",
   "execution_count": 119,
   "id": "ccd9f994",
   "metadata": {},
   "outputs": [
    {
     "data": {
      "text/plain": [
       "(2383,)"
      ]
     },
     "execution_count": 119,
     "metadata": {},
     "output_type": "execute_result"
    }
   ],
   "source": [
    "actual_positive.shape"
   ]
  },
  {
   "cell_type": "code",
   "execution_count": 120,
   "id": "9565a56f",
   "metadata": {},
   "outputs": [
    {
     "data": {
      "text/plain": [
       "(654, 1729)"
      ]
     },
     "execution_count": 120,
     "metadata": {},
     "output_type": "execute_result"
    }
   ],
   "source": [
    "actual_positive.sum(), actual_negative.sum()"
   ]
  },
  {
   "cell_type": "code",
   "execution_count": 121,
   "id": "0ea85fd0",
   "metadata": {},
   "outputs": [],
   "source": [
    "def predict_probability(df, dv, model):\n",
    "    df_dicts = df.to_dict(orient='records')\n",
    "    X = dv.transform(df_dicts)\n",
    "    y_pred = model.predict_proba(X)[:, 1]\n",
    "    return y_pred"
   ]
  },
  {
   "cell_type": "code",
   "execution_count": 122,
   "id": "8fc61e8d",
   "metadata": {},
   "outputs": [],
   "source": [
    "y_pred = predict_probability(df_val, dv, model)"
   ]
  },
  {
   "cell_type": "code",
   "execution_count": 123,
   "id": "3d2ebd64",
   "metadata": {},
   "outputs": [
    {
     "data": {
      "text/plain": [
       "(2383,)"
      ]
     },
     "execution_count": 123,
     "metadata": {},
     "output_type": "execute_result"
    }
   ],
   "source": [
    "y_pred.shape"
   ]
  },
  {
   "cell_type": "code",
   "execution_count": 124,
   "id": "1ac1da8a",
   "metadata": {},
   "outputs": [
    {
     "name": "stderr",
     "output_type": "stream",
     "text": [
      "/var/folders/qz/wxrcy0tx4y98bsrt32ftxztm0000gn/T/ipykernel_24768/4084783570.py:13: RuntimeWarning: invalid value encountered in scalar divide\n",
      "  precision = tp / (tp + fp)\n"
     ]
    }
   ],
   "source": [
    "scores = []\n",
    "\n",
    "for t in thresholds:\n",
    "    predict_positive = y_pred >= t\n",
    "    predict_negative = y_pred < t\n",
    "    \n",
    "    tp = (predict_positive & actual_positive).sum()\n",
    "    tn = (predict_negative & actual_negative).sum()\n",
    "    \n",
    "    fp = (predict_positive & actual_negative).sum()\n",
    "    fn = (predict_negative & actual_positive).sum()\n",
    "    \n",
    "    precision = tp / (tp + fp)\n",
    "    recall = tp / (tp + fn)\n",
    "    score = (t, tp, tn, fp, fn, precision, recall)\n",
    "    scores.append(score)"
   ]
  },
  {
   "cell_type": "code",
   "execution_count": 125,
   "id": "919b6f7a",
   "metadata": {},
   "outputs": [
    {
     "data": {
      "text/plain": [
       "[(0.0, 654, 0, 1729, 0, 0.27444397817876626, 1.0),\n",
       " (0.01, 652, 374, 1355, 2, 0.32486297957149973, 0.9969418960244648),\n",
       " (0.02, 652, 609, 1120, 2, 0.36794582392776526, 0.9969418960244648),\n",
       " (0.03, 652, 760, 969, 2, 0.4022208513263418, 0.9969418960244648),\n",
       " (0.04, 651, 851, 878, 3, 0.42576847612818836, 0.9954128440366973),\n",
       " (0.05, 651, 930, 799, 3, 0.4489655172413793, 0.9954128440366973),\n",
       " (0.06, 650, 981, 748, 4, 0.46494992846924177, 0.9938837920489296),\n",
       " (0.07, 646, 1050, 679, 8, 0.48754716981132074, 0.9877675840978594),\n",
       " (0.08, 643, 1097, 632, 11, 0.504313725490196, 0.9831804281345565),\n",
       " (0.09, 641, 1153, 576, 13, 0.5267050123253904, 0.9801223241590215),\n",
       " (0.1, 638, 1172, 557, 16, 0.5338912133891214, 0.9755351681957186),\n",
       " (0.11, 635, 1196, 533, 19, 0.5436643835616438, 0.9709480122324159),\n",
       " (0.12, 631, 1222, 507, 23, 0.554481546572935, 0.9648318042813455),\n",
       " (0.13, 630, 1243, 486, 24, 0.5645161290322581, 0.963302752293578),\n",
       " (0.14, 627, 1263, 466, 27, 0.5736505032021958, 0.9587155963302753),\n",
       " (0.15, 625, 1279, 450, 29, 0.5813953488372093, 0.9556574923547401),\n",
       " (0.16, 621, 1298, 431, 33, 0.5903041825095057, 0.9495412844036697),\n",
       " (0.17, 618, 1307, 422, 36, 0.5942307692307692, 0.944954128440367),\n",
       " (0.18, 618, 1317, 412, 36, 0.6, 0.944954128440367),\n",
       " (0.19, 616, 1339, 390, 38, 0.6123260437375746, 0.9418960244648318),\n",
       " (0.2, 612, 1358, 371, 42, 0.6225839267548321, 0.9357798165137615),\n",
       " (0.21, 607, 1381, 348, 47, 0.6356020942408377, 0.9281345565749235),\n",
       " (0.22, 600, 1396, 333, 54, 0.6430868167202572, 0.9174311926605505),\n",
       " (0.23, 600, 1410, 319, 54, 0.6528835690968444, 0.9174311926605505),\n",
       " (0.24, 596, 1429, 300, 58, 0.6651785714285714, 0.9113149847094801),\n",
       " (0.25, 590, 1442, 287, 64, 0.6727480045610034, 0.9021406727828746),\n",
       " (0.26, 586, 1464, 265, 68, 0.6886016451233843, 0.8960244648318043),\n",
       " (0.27, 584, 1470, 259, 70, 0.6927639383155397, 0.8929663608562691),\n",
       " (0.28, 579, 1483, 246, 75, 0.7018181818181818, 0.8853211009174312),\n",
       " (0.29, 574, 1494, 235, 80, 0.7095179233621756, 0.8776758409785933),\n",
       " (0.3, 571, 1507, 222, 83, 0.7200504413619168, 0.8730886850152905),\n",
       " (0.31, 563, 1510, 219, 91, 0.7199488491048593, 0.8608562691131498),\n",
       " (0.32, 562, 1520, 209, 92, 0.728923476005188, 0.8593272171253823),\n",
       " (0.33, 553, 1532, 197, 101, 0.7373333333333333, 0.845565749235474),\n",
       " (0.34, 550, 1541, 188, 104, 0.7452574525745257, 0.8409785932721713),\n",
       " (0.35000000000000003,\n",
       "  544,\n",
       "  1544,\n",
       "  185,\n",
       "  110,\n",
       "  0.7462277091906722,\n",
       "  0.8318042813455657),\n",
       " (0.36, 536, 1556, 173, 118, 0.7559943582510579, 0.8195718654434251),\n",
       " (0.37, 532, 1562, 167, 122, 0.7610872675250357, 0.8134556574923547),\n",
       " (0.38, 532, 1565, 164, 122, 0.764367816091954, 0.8134556574923547),\n",
       " (0.39, 529, 1566, 163, 125, 0.7644508670520231, 0.808868501529052),\n",
       " (0.4, 519, 1569, 160, 135, 0.7643593519882179, 0.7935779816513762),\n",
       " (0.41000000000000003,\n",
       "  515,\n",
       "  1579,\n",
       "  150,\n",
       "  139,\n",
       "  0.7744360902255639,\n",
       "  0.7874617737003058),\n",
       " (0.42, 512, 1591, 138, 142, 0.7876923076923077, 0.7828746177370031),\n",
       " (0.43, 504, 1592, 137, 150, 0.7862714508580343, 0.7706422018348624),\n",
       " (0.44, 501, 1594, 135, 153, 0.7877358490566038, 0.7660550458715596),\n",
       " (0.45, 497, 1600, 129, 157, 0.7939297124600639, 0.7599388379204893),\n",
       " (0.46, 493, 1606, 123, 161, 0.8003246753246753, 0.753822629969419),\n",
       " (0.47000000000000003,\n",
       "  489,\n",
       "  1609,\n",
       "  120,\n",
       "  165,\n",
       "  0.8029556650246306,\n",
       "  0.7477064220183486),\n",
       " (0.48, 485, 1615, 114, 169, 0.8096828046744574, 0.7415902140672783),\n",
       " (0.49, 481, 1620, 109, 173, 0.8152542372881356, 0.735474006116208),\n",
       " (0.5, 476, 1627, 102, 178, 0.8235294117647058, 0.72782874617737),\n",
       " (0.51, 472, 1628, 101, 182, 0.8237347294938918, 0.7217125382262997),\n",
       " (0.52, 470, 1633, 96, 184, 0.8303886925795053, 0.7186544342507645),\n",
       " (0.53, 465, 1638, 91, 189, 0.8363309352517986, 0.7110091743119266),\n",
       " (0.54, 460, 1644, 85, 194, 0.8440366972477065, 0.7033639143730887),\n",
       " (0.55, 456, 1649, 80, 198, 0.8507462686567164, 0.6972477064220184),\n",
       " (0.56, 450, 1650, 79, 204, 0.8506616257088847, 0.6880733944954128),\n",
       " (0.5700000000000001,\n",
       "  441,\n",
       "  1652,\n",
       "  77,\n",
       "  213,\n",
       "  0.8513513513513513,\n",
       "  0.6743119266055045),\n",
       " (0.58, 437, 1655, 74, 217, 0.8551859099804305, 0.6681957186544343),\n",
       " (0.59, 429, 1655, 74, 225, 0.852882703777336, 0.6559633027522935),\n",
       " (0.6, 424, 1662, 67, 230, 0.8635437881873728, 0.6483180428134556),\n",
       " (0.61, 419, 1667, 62, 235, 0.8711018711018711, 0.6406727828746177),\n",
       " (0.62, 408, 1668, 61, 246, 0.8699360341151386, 0.6238532110091743),\n",
       " (0.63, 401, 1672, 57, 253, 0.8755458515283843, 0.6131498470948012),\n",
       " (0.64, 397, 1672, 57, 257, 0.8744493392070485, 0.6070336391437309),\n",
       " (0.65, 393, 1673, 56, 261, 0.8752783964365256, 0.6009174311926605),\n",
       " (0.66, 390, 1679, 50, 264, 0.8863636363636364, 0.5963302752293578),\n",
       " (0.67, 380, 1683, 46, 274, 0.892018779342723, 0.581039755351682),\n",
       " (0.68, 373, 1690, 39, 281, 0.9053398058252428, 0.5703363914373089),\n",
       " (0.6900000000000001,\n",
       "  359,\n",
       "  1698,\n",
       "  31,\n",
       "  295,\n",
       "  0.9205128205128205,\n",
       "  0.5489296636085627),\n",
       " (0.7000000000000001,\n",
       "  349,\n",
       "  1698,\n",
       "  31,\n",
       "  305,\n",
       "  0.9184210526315789,\n",
       "  0.5336391437308868),\n",
       " (0.71, 342, 1704, 25, 312, 0.9318801089918256, 0.5229357798165137),\n",
       " (0.72, 335, 1705, 24, 319, 0.9331476323119777, 0.5122324159021406),\n",
       " (0.73, 331, 1711, 18, 323, 0.9484240687679083, 0.5061162079510704),\n",
       " (0.74, 326, 1711, 18, 328, 0.9476744186046512, 0.4984709480122324),\n",
       " (0.75, 317, 1712, 17, 337, 0.9491017964071856, 0.4847094801223242),\n",
       " (0.76, 314, 1713, 16, 340, 0.9515151515151515, 0.4801223241590214),\n",
       " (0.77, 303, 1714, 15, 351, 0.9528301886792453, 0.463302752293578),\n",
       " (0.78, 295, 1716, 13, 359, 0.9577922077922078, 0.4510703363914373),\n",
       " (0.79, 290, 1717, 12, 364, 0.9602649006622517, 0.4434250764525994),\n",
       " (0.8, 284, 1717, 12, 370, 0.9594594594594594, 0.43425076452599387),\n",
       " (0.81, 274, 1720, 9, 380, 0.9681978798586572, 0.41896024464831805),\n",
       " (0.8200000000000001,\n",
       "  268,\n",
       "  1720,\n",
       "  9,\n",
       "  386,\n",
       "  0.9675090252707581,\n",
       "  0.40978593272171254),\n",
       " (0.8300000000000001,\n",
       "  261,\n",
       "  1720,\n",
       "  9,\n",
       "  393,\n",
       "  0.9666666666666667,\n",
       "  0.39908256880733944),\n",
       " (0.84, 257, 1720, 9, 397, 0.9661654135338346, 0.3929663608562691),\n",
       " (0.85, 248, 1720, 9, 406, 0.9649805447470817, 0.37920489296636084),\n",
       " (0.86, 246, 1720, 9, 408, 0.9647058823529412, 0.3761467889908257),\n",
       " (0.87, 245, 1722, 7, 409, 0.9722222222222222, 0.3746177370030581),\n",
       " (0.88, 239, 1722, 7, 415, 0.9715447154471545, 0.3654434250764526),\n",
       " (0.89, 234, 1723, 6, 420, 0.975, 0.3577981651376147),\n",
       " (0.9, 226, 1723, 6, 428, 0.9741379310344828, 0.345565749235474),\n",
       " (0.91, 223, 1723, 6, 431, 0.9737991266375546, 0.3409785932721712),\n",
       " (0.92, 221, 1723, 6, 433, 0.973568281938326, 0.3379204892966361),\n",
       " (0.93, 217, 1725, 4, 437, 0.9819004524886877, 0.3318042813455658),\n",
       " (0.9400000000000001,\n",
       "  212,\n",
       "  1726,\n",
       "  3,\n",
       "  442,\n",
       "  0.986046511627907,\n",
       "  0.3241590214067278),\n",
       " (0.9500000000000001,\n",
       "  202,\n",
       "  1726,\n",
       "  3,\n",
       "  452,\n",
       "  0.9853658536585366,\n",
       "  0.308868501529052),\n",
       " (0.96, 188, 1727, 2, 466, 0.9894736842105263, 0.2874617737003058),\n",
       " (0.97, 172, 1727, 2, 482, 0.9885057471264368, 0.26299694189602446),\n",
       " (0.98, 148, 1728, 1, 506, 0.9932885906040269, 0.22629969418960244),\n",
       " (0.99, 104, 1729, 0, 550, 1.0, 0.15902140672782875),\n",
       " (1.0, 0, 1729, 0, 654, nan, 0.0)]"
      ]
     },
     "execution_count": 125,
     "metadata": {},
     "output_type": "execute_result"
    }
   ],
   "source": [
    "scores"
   ]
  },
  {
   "cell_type": "code",
   "execution_count": 126,
   "id": "65b4bdfc",
   "metadata": {},
   "outputs": [],
   "source": [
    "# tp, tn, fp, fn, precision, recall\n",
    "columns = ['threshold', 'tp', 'tn', 'fp', 'fn', 'precision', 'recall']\n",
    "df_scores = pd.DataFrame(scores, columns=columns)"
   ]
  },
  {
   "cell_type": "code",
   "execution_count": 127,
   "id": "0407a525",
   "metadata": {},
   "outputs": [
    {
     "data": {
      "text/html": [
       "<div>\n",
       "<style scoped>\n",
       "    .dataframe tbody tr th:only-of-type {\n",
       "        vertical-align: middle;\n",
       "    }\n",
       "\n",
       "    .dataframe tbody tr th {\n",
       "        vertical-align: top;\n",
       "    }\n",
       "\n",
       "    .dataframe thead th {\n",
       "        text-align: right;\n",
       "    }\n",
       "</style>\n",
       "<table border=\"1\" class=\"dataframe\">\n",
       "  <thead>\n",
       "    <tr style=\"text-align: right;\">\n",
       "      <th></th>\n",
       "      <th>threshold</th>\n",
       "      <th>tp</th>\n",
       "      <th>tn</th>\n",
       "      <th>fp</th>\n",
       "      <th>fn</th>\n",
       "      <th>precision</th>\n",
       "      <th>recall</th>\n",
       "    </tr>\n",
       "  </thead>\n",
       "  <tbody>\n",
       "    <tr>\n",
       "      <th>0</th>\n",
       "      <td>0.00</td>\n",
       "      <td>654</td>\n",
       "      <td>0</td>\n",
       "      <td>1729</td>\n",
       "      <td>0</td>\n",
       "      <td>0.274444</td>\n",
       "      <td>1.000000</td>\n",
       "    </tr>\n",
       "    <tr>\n",
       "      <th>1</th>\n",
       "      <td>0.01</td>\n",
       "      <td>652</td>\n",
       "      <td>374</td>\n",
       "      <td>1355</td>\n",
       "      <td>2</td>\n",
       "      <td>0.324863</td>\n",
       "      <td>0.996942</td>\n",
       "    </tr>\n",
       "    <tr>\n",
       "      <th>2</th>\n",
       "      <td>0.02</td>\n",
       "      <td>652</td>\n",
       "      <td>609</td>\n",
       "      <td>1120</td>\n",
       "      <td>2</td>\n",
       "      <td>0.367946</td>\n",
       "      <td>0.996942</td>\n",
       "    </tr>\n",
       "    <tr>\n",
       "      <th>3</th>\n",
       "      <td>0.03</td>\n",
       "      <td>652</td>\n",
       "      <td>760</td>\n",
       "      <td>969</td>\n",
       "      <td>2</td>\n",
       "      <td>0.402221</td>\n",
       "      <td>0.996942</td>\n",
       "    </tr>\n",
       "    <tr>\n",
       "      <th>4</th>\n",
       "      <td>0.04</td>\n",
       "      <td>651</td>\n",
       "      <td>851</td>\n",
       "      <td>878</td>\n",
       "      <td>3</td>\n",
       "      <td>0.425768</td>\n",
       "      <td>0.995413</td>\n",
       "    </tr>\n",
       "  </tbody>\n",
       "</table>\n",
       "</div>"
      ],
      "text/plain": [
       "   threshold   tp   tn    fp  fn  precision    recall\n",
       "0       0.00  654    0  1729   0   0.274444  1.000000\n",
       "1       0.01  652  374  1355   2   0.324863  0.996942\n",
       "2       0.02  652  609  1120   2   0.367946  0.996942\n",
       "3       0.03  652  760   969   2   0.402221  0.996942\n",
       "4       0.04  651  851   878   3   0.425768  0.995413"
      ]
     },
     "execution_count": 127,
     "metadata": {},
     "output_type": "execute_result"
    }
   ],
   "source": [
    "df_scores.head()"
   ]
  },
  {
   "cell_type": "code",
   "execution_count": 129,
   "id": "c2a4fe01",
   "metadata": {},
   "outputs": [
    {
     "data": {
      "text/plain": [
       "[<matplotlib.lines.Line2D at 0x7fba5c4861a0>]"
      ]
     },
     "execution_count": 129,
     "metadata": {},
     "output_type": "execute_result"
    },
    {
     "data": {
      "image/png": "[encoded data removed]",
      "text/plain": [
       "<Figure size 640x480 with 1 Axes>"
      ]
     },
     "metadata": {},
     "output_type": "display_data"
    }
   ],
   "source": [
    "from matplotlib import pyplot as plt\n",
    "plt.plot(df_scores['threshold'], df_scores['precision'], label='Precision')\n",
    "plt.plot(df_scores['threshold'], df_scores['recall'], label='Recall')"
   ]
  },
  {
   "cell_type": "markdown",
   "id": "5fbf67cd",
   "metadata": {},
   "source": [
    "> **Answer** `0.48`"
   ]
  },
  {
   "cell_type": "markdown",
   "id": "50921c97",
   "metadata": {},
   "source": [
    "### Question 4: F1 score\n",
    "\n",
    "Precision and recall are conflicting - when one grows, the other goes down. That's why they are often combined into the F1 score - a metrics that takes into account both\n",
    "\n",
    "This is the formula for computing F1:\n",
    "\n",
    "$$F_1 = 2 \\cdot \\cfrac{P \\cdot R}{P + R}$$\n",
    "\n",
    "Where $P$ is precision and $R$ is recall.\n",
    "\n",
    "Let's compute F1 for all thresholds from 0.0 to 1.0 with increment 0.01\n",
    "\n",
    "At which threshold F1 is maximal?\n",
    "\n",
    "- 0.12\n",
    "- 0.32\n",
    "- 0.52\n",
    "- 0.72"
   ]
  },
  {
   "cell_type": "code",
   "execution_count": 131,
   "id": "faa1129c",
   "metadata": {},
   "outputs": [],
   "source": [
    "df_scores['f1'] = (2 * df_scores['precision'] * df_scores['recall']) / (df_scores['precision'] + df_scores['recall'])"
   ]
  },
  {
   "cell_type": "code",
   "execution_count": 132,
   "id": "e17fdaa6",
   "metadata": {},
   "outputs": [
    {
     "data": {
      "text/plain": [
       "[<matplotlib.lines.Line2D at 0x7fba5c6b27a0>]"
      ]
     },
     "execution_count": 132,
     "metadata": {},
     "output_type": "execute_result"
    },
    {
     "data": {
      "image/png": "[encoded data removed]",
      "text/plain": [
       "<Figure size 640x480 with 1 Axes>"
      ]
     },
     "metadata": {},
     "output_type": "display_data"
    }
   ],
   "source": [
    "plt.plot(df_scores['threshold'], df_scores['f1'], label='F1 Score')"
   ]
  },
  {
   "cell_type": "markdown",
   "id": "6a6c2402",
   "metadata": {},
   "source": [
    "> **Answer** `0.72`"
   ]
  },
  {
   "cell_type": "markdown",
   "id": "434ff6b0",
   "metadata": {},
   "source": [
    "### Question 5: 5-Fold CV\n",
    "\n",
    "\n",
    "Use the `KFold` class from Scikit-Learn to evaluate our model on 5 different folds:\n",
    "\n",
    "```\n",
    "KFold(n_splits=5, shuffle=True, random_state=1)\n",
    "```\n",
    "\n",
    "* Iterate over different folds of `df_full_train`\n",
    "* Split the data into train and validation\n",
    "* Train the model on train with these parameters: `LogisticRegression(solver='liblinear', C=1.0, max_iter=1000)`\n",
    "* Use AUC to evaluate the model on validation\n",
    "\n",
    "How large is standard devidation of the scores across different folds?\n",
    "\n",
    "- 0.003\n",
    "- 0.030\n",
    "- 0.090\n",
    "- 0.140"
   ]
  },
  {
   "cell_type": "code",
   "execution_count": 134,
   "id": "758833b5",
   "metadata": {},
   "outputs": [
    {
     "data": {
      "text/html": [
       "<div>\n",
       "<style scoped>\n",
       "    .dataframe tbody tr th:only-of-type {\n",
       "        vertical-align: middle;\n",
       "    }\n",
       "\n",
       "    .dataframe tbody tr th {\n",
       "        vertical-align: top;\n",
       "    }\n",
       "\n",
       "    .dataframe thead th {\n",
       "        text-align: right;\n",
       "    }\n",
       "</style>\n",
       "<table border=\"1\" class=\"dataframe\">\n",
       "  <thead>\n",
       "    <tr style=\"text-align: right;\">\n",
       "      <th></th>\n",
       "      <th>make</th>\n",
       "      <th>model</th>\n",
       "      <th>year</th>\n",
       "      <th>engine_hp</th>\n",
       "      <th>engine_cylinders</th>\n",
       "      <th>transmission_type</th>\n",
       "      <th>vehicle_style</th>\n",
       "      <th>highway_mpg</th>\n",
       "      <th>city_mpg</th>\n",
       "      <th>msrp</th>\n",
       "      <th>above_average</th>\n",
       "    </tr>\n",
       "  </thead>\n",
       "  <tbody>\n",
       "    <tr>\n",
       "      <th>2711</th>\n",
       "      <td>Mercedes-Benz</td>\n",
       "      <td>CLK-Class</td>\n",
       "      <td>2007</td>\n",
       "      <td>382.0</td>\n",
       "      <td>8.0</td>\n",
       "      <td>AUTOMATIC</td>\n",
       "      <td>Coupe</td>\n",
       "      <td>22</td>\n",
       "      <td>15</td>\n",
       "      <td>54900</td>\n",
       "      <td>1</td>\n",
       "    </tr>\n",
       "    <tr>\n",
       "      <th>333</th>\n",
       "      <td>Nissan</td>\n",
       "      <td>370Z</td>\n",
       "      <td>2016</td>\n",
       "      <td>332.0</td>\n",
       "      <td>6.0</td>\n",
       "      <td>MANUAL</td>\n",
       "      <td>Coupe</td>\n",
       "      <td>26</td>\n",
       "      <td>18</td>\n",
       "      <td>29990</td>\n",
       "      <td>0</td>\n",
       "    </tr>\n",
       "    <tr>\n",
       "      <th>9377</th>\n",
       "      <td>GMC</td>\n",
       "      <td>Sierra 1500</td>\n",
       "      <td>2017</td>\n",
       "      <td>285.0</td>\n",
       "      <td>6.0</td>\n",
       "      <td>AUTOMATIC</td>\n",
       "      <td>Extended Cab Pickup</td>\n",
       "      <td>24</td>\n",
       "      <td>18</td>\n",
       "      <td>32230</td>\n",
       "      <td>0</td>\n",
       "    </tr>\n",
       "    <tr>\n",
       "      <th>939</th>\n",
       "      <td>Porsche</td>\n",
       "      <td>911</td>\n",
       "      <td>2016</td>\n",
       "      <td>350.0</td>\n",
       "      <td>6.0</td>\n",
       "      <td>MANUAL</td>\n",
       "      <td>Convertible</td>\n",
       "      <td>26</td>\n",
       "      <td>19</td>\n",
       "      <td>102930</td>\n",
       "      <td>1</td>\n",
       "    </tr>\n",
       "    <tr>\n",
       "      <th>5675</th>\n",
       "      <td>Volkswagen</td>\n",
       "      <td>GTI</td>\n",
       "      <td>2013</td>\n",
       "      <td>200.0</td>\n",
       "      <td>4.0</td>\n",
       "      <td>MANUAL</td>\n",
       "      <td>4dr Hatchback</td>\n",
       "      <td>31</td>\n",
       "      <td>21</td>\n",
       "      <td>28795</td>\n",
       "      <td>0</td>\n",
       "    </tr>\n",
       "  </tbody>\n",
       "</table>\n",
       "</div>"
      ],
      "text/plain": [
       "               make        model  year  engine_hp  engine_cylinders  \\\n",
       "2711  Mercedes-Benz    CLK-Class  2007      382.0               8.0   \n",
       "333          Nissan         370Z  2016      332.0               6.0   \n",
       "9377            GMC  Sierra 1500  2017      285.0               6.0   \n",
       "939         Porsche          911  2016      350.0               6.0   \n",
       "5675     Volkswagen          GTI  2013      200.0               4.0   \n",
       "\n",
       "     transmission_type        vehicle_style  highway_mpg  city_mpg    msrp  \\\n",
       "2711         AUTOMATIC                Coupe           22        15   54900   \n",
       "333             MANUAL                Coupe           26        18   29990   \n",
       "9377         AUTOMATIC  Extended Cab Pickup           24        18   32230   \n",
       "939             MANUAL          Convertible           26        19  102930   \n",
       "5675            MANUAL        4dr Hatchback           31        21   28795   \n",
       "\n",
       "      above_average  \n",
       "2711              1  \n",
       "333               0  \n",
       "9377              0  \n",
       "939               1  \n",
       "5675              0  "
      ]
     },
     "execution_count": 134,
     "metadata": {},
     "output_type": "execute_result"
    }
   ],
   "source": [
    "df_full_train.head()\n"
   ]
  },
  {
   "cell_type": "code",
   "execution_count": 133,
   "id": "a7670b6f",
   "metadata": {},
   "outputs": [],
   "source": [
    "# Initialize kfold cross validation\n",
    "from sklearn.model_selection import KFold\n",
    "kfold = KFold(n_splits=5, shuffle=True, random_state=1)\n"
   ]
  },
  {
   "cell_type": "code",
   "execution_count": 137,
   "id": "1a43f953",
   "metadata": {},
   "outputs": [],
   "source": [
    "scores = []\n",
    "\n",
    "for train_idx, val_idx in kfold.split(df_full_train):\n",
    "    df_train = df_full_train.iloc[train_idx]\n",
    "    df_val = df_full_train.iloc[val_idx]\n",
    "    \n",
    "    df_train = df_train.reset_index(drop=False)\n",
    "    df_val = df_val.reset_index(drop=False)\n",
    "    \n",
    "    y_train = df_train[target]\n",
    "    y_val = df_val[target]\n",
    "    \n",
    "    del df_train[target]\n",
    "    del df_train['msrp']\n",
    "    del df_val[target]\n",
    "    del df_val['msrp']\n",
    "    \n",
    "    dv, model = train(df_train, y_train)\n",
    "    y_pred = predict(df_val, dv, model)\n",
    "    auc = roc_auc_score(y_val, y_pred)\n",
    "    scores.append(auc)\n",
    "    \n",
    "\n",
    "    "
   ]
  },
  {
   "cell_type": "code",
   "execution_count": 138,
   "id": "805f939c",
   "metadata": {},
   "outputs": [
    {
     "data": {
      "text/plain": [
       "0.014321707835858464"
      ]
     },
     "execution_count": 138,
     "metadata": {},
     "output_type": "execute_result"
    }
   ],
   "source": [
    "np.std(scores)"
   ]
  },
  {
   "cell_type": "markdown",
   "id": "be7245ca",
   "metadata": {},
   "source": [
    "> **Answer** `0.014`"
   ]
  },
  {
   "cell_type": "markdown",
   "id": "8eafba05",
   "metadata": {},
   "source": [
    "### Question 6: Hyperparemeter Tuning\n",
    "\n",
    "Now let's use 5-Fold cross-validation to find the best parameter `C`\n",
    "\n",
    "* Iterate over the following `C` values: `[0.01, 0.1, 0.5, 10]`\n",
    "* Initialize `KFold` with the same parameters as previously\n",
    "* Use these parametes for the model: `LogisticRegression(solver='liblinear', C=C, max_iter=1000)`\n",
    "* Compute the mean score as well as the std (round the mean and std to 3 decimal digits)\n",
    "\n",
    "Which `C` leads to the best mean score?\n",
    "\n",
    "- 0.01\n",
    "- 0.1\n",
    "- 0.5\n",
    "- 10\n",
    "\n",
    "If you have ties, select the score with the lowest std. If you still have ties, select the smallest `C`."
   ]
  },
  {
   "cell_type": "code",
   "execution_count": 146,
   "id": "8b7fd464",
   "metadata": {},
   "outputs": [],
   "source": [
    "total_scores = []\n",
    "for c in [0.01, 0.1, 0.5, 10]:\n",
    "    scores = []\n",
    "\n",
    "    for train_idx, val_idx in kfold.split(df_full_train):\n",
    "        df_train = df_full_train.iloc[train_idx]\n",
    "        df_val = df_full_train.iloc[val_idx]\n",
    "\n",
    "        df_train = df_train.reset_index(drop=False)\n",
    "        df_val = df_val.reset_index(drop=False)\n",
    "\n",
    "        y_train = df_train[target]\n",
    "        y_val = df_val[target]\n",
    "\n",
    "        del df_train[target]\n",
    "        del df_train['msrp']\n",
    "        del df_val[target]\n",
    "        del df_val['msrp']\n",
    "\n",
    "        dv, model = train(df_train, y_train, c)\n",
    "        y_pred = predict(df_val, dv, model)\n",
    "        auc = roc_auc_score(y_val, y_pred)\n",
    "        scores.append(auc)\n",
    "    mean = round(np.mean(scores), 3)\n",
    "    std = round(np.std(scores), 3)\n",
    "    score = (c, mean, std)\n",
    "    total_scores.append(score)"
   ]
  },
  {
   "cell_type": "code",
   "execution_count": 147,
   "id": "0304054f",
   "metadata": {},
   "outputs": [
    {
     "data": {
      "text/plain": [
       "[(0.01, 0.832, 0.012),\n",
       " (0.1, 0.881, 0.005),\n",
       " (0.5, 0.89, 0.006),\n",
       " (10, 0.895, 0.009)]"
      ]
     },
     "execution_count": 147,
     "metadata": {},
     "output_type": "execute_result"
    }
   ],
   "source": [
    "total_scores"
   ]
  },
  {
   "cell_type": "markdown",
   "id": "5de54efb",
   "metadata": {},
   "source": [
    "> **Answer** `10` best mean value is 0.895 and corrosponding c value is 10"
   ]
  },
  {
   "cell_type": "code",
   "execution_count": null,
   "id": "be93df11",
   "metadata": {},
   "outputs": [],
   "source": []
  }
 ],
 "metadata": {
  "kernelspec": {
   "display_name": "Python 3 (ipykernel)",
   "language": "python",
   "name": "python3"
  },
  "language_info": {
   "codemirror_mode": {
    "name": "ipython",
    "version": 3
   },
   "file_extension": ".py",
   "mimetype": "text/x-python",
   "name": "python",
   "nbconvert_exporter": "python",
   "pygments_lexer": "ipython3",
   "version": "3.10.9"
  }
 },
 "nbformat": 4,
 "nbformat_minor": 5
}
