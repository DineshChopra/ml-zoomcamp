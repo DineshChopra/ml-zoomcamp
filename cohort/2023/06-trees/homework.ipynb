{
 "cells": [
  {
   "cell_type": "markdown",
   "id": "1e020276",
   "metadata": {},
   "source": [
    "# California Housing Prices [Kaggle Link](https://www.kaggle.com/datasets/camnugent/california-housing-prices)"
   ]
  },
  {
   "cell_type": "code",
   "execution_count": 1,
   "id": "67c7d1cb",
   "metadata": {},
   "outputs": [
    {
     "name": "stdout",
     "output_type": "stream",
     "text": [
      "--2023-10-17 09:47:02--  https://raw.githubusercontent.com/alexeygrigorev/datasets/master/housing.csv\n",
      "Resolving raw.githubusercontent.com (raw.githubusercontent.com)... 185.199.110.133, 185.199.111.133, 185.199.108.133, ...\n",
      "Connecting to raw.githubusercontent.com (raw.githubusercontent.com)|185.199.110.133|:443... connected.\n",
      "HTTP request sent, awaiting response... 200 OK\n",
      "Length: 1423529 (1.4M) [text/plain]\n",
      "Saving to: ‘housing.csv’\n",
      "\n",
      "housing.csv         100%[===================>]   1.36M  1.78MB/s    in 0.8s    \n",
      "\n",
      "2023-10-17 09:47:04 (1.78 MB/s) - ‘housing.csv’ saved [1423529/1423529]\n",
      "\n"
     ]
    }
   ],
   "source": [
    "# Get the dataset\n",
    "!wget https://raw.githubusercontent.com/alexeygrigorev/datasets/master/housing.csv"
   ]
  },
  {
   "cell_type": "code",
   "execution_count": 2,
   "id": "48ada5b1",
   "metadata": {},
   "outputs": [],
   "source": [
    "import pandas as pd\n",
    "def load_dataset(data_file: str = \"housing.csv\"):\n",
    "    df = pd.read_csv(data_file)\n",
    "    return df"
   ]
  },
  {
   "cell_type": "code",
   "execution_count": 67,
   "id": "a324429f",
   "metadata": {},
   "outputs": [],
   "source": [
    "df = load_dataset()"
   ]
  },
  {
   "cell_type": "markdown",
   "id": "ebd6cc09",
   "metadata": {},
   "source": [
    "### Preparing the dataset \n",
    "\n",
    "For this homework, we only want to use a subset of data. This is the same subset we used in homework #2.\n",
    "\n",
    "First, keep only the records where `ocean_proximity` is either `'<1H OCEAN'` or `'INLAND'`\n",
    "\n",
    "Preparation:\n",
    "\n",
    "* Apply the log tranform to `median_house_value`.\n",
    "* Do train/validation/test split with 60%/20%/20% distribution. \n",
    "* Use the `train_test_split` function and set the `random_state` parameter to 1.\n",
    "* Use `DictVectorizer(sparse=True)` to turn the dataframe into matrices."
   ]
  },
  {
   "cell_type": "code",
   "execution_count": 68,
   "id": "a5c83ef9",
   "metadata": {},
   "outputs": [
    {
     "data": {
      "text/plain": [
       "ocean_proximity\n",
       "<1H OCEAN     9136\n",
       "INLAND        6551\n",
       "NEAR OCEAN    2658\n",
       "NEAR BAY      2290\n",
       "ISLAND           5\n",
       "Name: count, dtype: int64"
      ]
     },
     "execution_count": 68,
     "metadata": {},
     "output_type": "execute_result"
    }
   ],
   "source": [
    "df['ocean_proximity'].value_counts()"
   ]
  },
  {
   "cell_type": "code",
   "execution_count": 69,
   "id": "6731325b",
   "metadata": {},
   "outputs": [],
   "source": [
    "df = df[(df['ocean_proximity'] == '<1H OCEAN') | (df['ocean_proximity'] == 'ISLAND')]"
   ]
  },
  {
   "cell_type": "code",
   "execution_count": 70,
   "id": "c304ab18",
   "metadata": {},
   "outputs": [
    {
     "data": {
      "text/plain": [
       "ocean_proximity\n",
       "<1H OCEAN    9136\n",
       "ISLAND          5\n",
       "Name: count, dtype: int64"
      ]
     },
     "execution_count": 70,
     "metadata": {},
     "output_type": "execute_result"
    }
   ],
   "source": [
    "df['ocean_proximity'].value_counts()"
   ]
  },
  {
   "cell_type": "markdown",
   "id": "02f426a1",
   "metadata": {},
   "source": [
    "### Apply the log tranform to `median_house_value`."
   ]
  },
  {
   "cell_type": "code",
   "execution_count": 71,
   "id": "f0d999d7",
   "metadata": {},
   "outputs": [],
   "source": [
    "import numpy as np\n",
    "df.loc[:, 'median_house_value'] = np.log1p(df['median_house_value'])"
   ]
  },
  {
   "cell_type": "markdown",
   "id": "3068d1cc",
   "metadata": {},
   "source": [
    "### Do train/validation/test split with 60%/20%/20% distribution."
   ]
  },
  {
   "cell_type": "code",
   "execution_count": 72,
   "id": "2fa9c2ff",
   "metadata": {},
   "outputs": [],
   "source": [
    "from sklearn.model_selection import train_test_split\n",
    "\n",
    "def split_train_val_test_dataset(df):\n",
    "    df.fillna(value=0, inplace=True)\n",
    "    df_full_train, df_test = train_test_split(df, test_size=0.2, random_state=1)\n",
    "    df_train, df_val = train_test_split(df_full_train, test_size=0.25, random_state=1)\n",
    "    \n",
    "    df_train = df_train.reset_index(drop=True)\n",
    "    df_val = df_val.reset_index(drop=True)\n",
    "    df_test = df_test.reset_index(drop=True)\n",
    "    \n",
    "    y_train = df_train['median_house_value'].values\n",
    "    y_val = df_val['median_house_value'].values\n",
    "    y_test = df_test['median_house_value'].values\n",
    "    \n",
    "    del df_train['median_house_value']\n",
    "    del df_val['median_house_value']\n",
    "    del df_test['median_house_value']\n",
    "    return df_train, df_val, df_test, y_train, y_val, y_test\n",
    "    \n",
    "    "
   ]
  },
  {
   "cell_type": "code",
   "execution_count": 73,
   "id": "fc1fe7f5",
   "metadata": {},
   "outputs": [],
   "source": [
    "df_train, df_val, df_test, y_train, y_val, y_test = split_train_val_test_dataset(df)"
   ]
  },
  {
   "cell_type": "markdown",
   "id": "d07809d8",
   "metadata": {},
   "source": [
    "### Use `DictVectorizer(sparse=True)` to turn the dataframe into matrices."
   ]
  },
  {
   "cell_type": "code",
   "execution_count": 74,
   "id": "dee1a0c2",
   "metadata": {},
   "outputs": [],
   "source": [
    "from sklearn.feature_extraction import DictVectorizer\n",
    "\n",
    "def trun_train_dataframe_into_matrices(df):\n",
    "    dv = DictVectorizer(sparse=False)\n",
    "    df_dict = df.to_dict(orient='records')\n",
    "    X = dv.fit_transform(df_dict)\n",
    "    return dv, X"
   ]
  },
  {
   "cell_type": "code",
   "execution_count": 111,
   "id": "8b5fc9b5",
   "metadata": {},
   "outputs": [],
   "source": [
    "def trun_val_dataframe_into_matrices(df, dv):\n",
    "    df_dict = df.to_dict(orient='records')\n",
    "    X = dv.transform(df_dict)\n",
    "    return X"
   ]
  },
  {
   "cell_type": "code",
   "execution_count": 112,
   "id": "1deafd3d",
   "metadata": {},
   "outputs": [],
   "source": [
    "def trun_dataframe_into_matrices(df_train, df_val):\n",
    "    dv, X_train = trun_train_dataframe_into_matrices(df_train)\n",
    "    X_val = trun_val_dataframe_into_matrices(df_val, dv)\n",
    "    return X_train, X_val, dv"
   ]
  },
  {
   "cell_type": "code",
   "execution_count": 113,
   "id": "30d12e39",
   "metadata": {},
   "outputs": [],
   "source": [
    "X_train, X_val, dv = trun_dataframe_into_matrices(df_train, df_val)"
   ]
  },
  {
   "cell_type": "code",
   "execution_count": 114,
   "id": "b10fe3fe",
   "metadata": {},
   "outputs": [
    {
     "data": {
      "text/plain": [
       "array([ 5.0100e+02,  2.5000e+01,  3.3940e+01, -1.1794e+02,  5.1084e+00,\n",
       "        1.0000e+00,  0.0000e+00,  1.4520e+03,  5.4600e+02,  3.2500e+03])"
      ]
     },
     "execution_count": 114,
     "metadata": {},
     "output_type": "execute_result"
    }
   ],
   "source": [
    "X_train[0]"
   ]
  },
  {
   "cell_type": "code",
   "execution_count": 115,
   "id": "99fb79e3",
   "metadata": {},
   "outputs": [
    {
     "data": {
      "text/html": [
       "<div>\n",
       "<style scoped>\n",
       "    .dataframe tbody tr th:only-of-type {\n",
       "        vertical-align: middle;\n",
       "    }\n",
       "\n",
       "    .dataframe tbody tr th {\n",
       "        vertical-align: top;\n",
       "    }\n",
       "\n",
       "    .dataframe thead th {\n",
       "        text-align: right;\n",
       "    }\n",
       "</style>\n",
       "<table border=\"1\" class=\"dataframe\">\n",
       "  <thead>\n",
       "    <tr style=\"text-align: right;\">\n",
       "      <th></th>\n",
       "      <th>longitude</th>\n",
       "      <th>latitude</th>\n",
       "      <th>housing_median_age</th>\n",
       "      <th>total_rooms</th>\n",
       "      <th>total_bedrooms</th>\n",
       "      <th>population</th>\n",
       "      <th>households</th>\n",
       "      <th>median_income</th>\n",
       "      <th>ocean_proximity</th>\n",
       "    </tr>\n",
       "  </thead>\n",
       "  <tbody>\n",
       "    <tr>\n",
       "      <th>0</th>\n",
       "      <td>-117.94</td>\n",
       "      <td>33.94</td>\n",
       "      <td>25.0</td>\n",
       "      <td>3250.0</td>\n",
       "      <td>546.0</td>\n",
       "      <td>1452.0</td>\n",
       "      <td>501.0</td>\n",
       "      <td>5.1084</td>\n",
       "      <td>&lt;1H OCEAN</td>\n",
       "    </tr>\n",
       "    <tr>\n",
       "      <th>1</th>\n",
       "      <td>-118.29</td>\n",
       "      <td>33.98</td>\n",
       "      <td>42.0</td>\n",
       "      <td>2833.0</td>\n",
       "      <td>768.0</td>\n",
       "      <td>2542.0</td>\n",
       "      <td>725.0</td>\n",
       "      <td>1.3479</td>\n",
       "      <td>&lt;1H OCEAN</td>\n",
       "    </tr>\n",
       "    <tr>\n",
       "      <th>2</th>\n",
       "      <td>-117.70</td>\n",
       "      <td>33.68</td>\n",
       "      <td>29.0</td>\n",
       "      <td>5650.0</td>\n",
       "      <td>1084.0</td>\n",
       "      <td>3985.0</td>\n",
       "      <td>1056.0</td>\n",
       "      <td>2.8192</td>\n",
       "      <td>&lt;1H OCEAN</td>\n",
       "    </tr>\n",
       "    <tr>\n",
       "      <th>3</th>\n",
       "      <td>-118.48</td>\n",
       "      <td>34.20</td>\n",
       "      <td>23.0</td>\n",
       "      <td>2850.0</td>\n",
       "      <td>864.0</td>\n",
       "      <td>2249.0</td>\n",
       "      <td>777.0</td>\n",
       "      <td>2.6957</td>\n",
       "      <td>&lt;1H OCEAN</td>\n",
       "    </tr>\n",
       "    <tr>\n",
       "      <th>4</th>\n",
       "      <td>-118.14</td>\n",
       "      <td>33.95</td>\n",
       "      <td>36.0</td>\n",
       "      <td>1942.0</td>\n",
       "      <td>355.0</td>\n",
       "      <td>891.0</td>\n",
       "      <td>348.0</td>\n",
       "      <td>3.6635</td>\n",
       "      <td>&lt;1H OCEAN</td>\n",
       "    </tr>\n",
       "    <tr>\n",
       "      <th>...</th>\n",
       "      <td>...</td>\n",
       "      <td>...</td>\n",
       "      <td>...</td>\n",
       "      <td>...</td>\n",
       "      <td>...</td>\n",
       "      <td>...</td>\n",
       "      <td>...</td>\n",
       "      <td>...</td>\n",
       "      <td>...</td>\n",
       "    </tr>\n",
       "    <tr>\n",
       "      <th>5479</th>\n",
       "      <td>-121.85</td>\n",
       "      <td>37.44</td>\n",
       "      <td>8.0</td>\n",
       "      <td>426.0</td>\n",
       "      <td>61.0</td>\n",
       "      <td>241.0</td>\n",
       "      <td>55.0</td>\n",
       "      <td>7.3090</td>\n",
       "      <td>&lt;1H OCEAN</td>\n",
       "    </tr>\n",
       "    <tr>\n",
       "      <th>5480</th>\n",
       "      <td>-118.46</td>\n",
       "      <td>34.19</td>\n",
       "      <td>20.0</td>\n",
       "      <td>5992.0</td>\n",
       "      <td>1820.0</td>\n",
       "      <td>4826.0</td>\n",
       "      <td>1632.0</td>\n",
       "      <td>2.7237</td>\n",
       "      <td>&lt;1H OCEAN</td>\n",
       "    </tr>\n",
       "    <tr>\n",
       "      <th>5481</th>\n",
       "      <td>-118.12</td>\n",
       "      <td>34.12</td>\n",
       "      <td>52.0</td>\n",
       "      <td>2907.0</td>\n",
       "      <td>317.0</td>\n",
       "      <td>956.0</td>\n",
       "      <td>279.0</td>\n",
       "      <td>15.0001</td>\n",
       "      <td>&lt;1H OCEAN</td>\n",
       "    </tr>\n",
       "    <tr>\n",
       "      <th>5482</th>\n",
       "      <td>-117.67</td>\n",
       "      <td>33.61</td>\n",
       "      <td>23.0</td>\n",
       "      <td>3588.0</td>\n",
       "      <td>577.0</td>\n",
       "      <td>1695.0</td>\n",
       "      <td>569.0</td>\n",
       "      <td>6.1401</td>\n",
       "      <td>&lt;1H OCEAN</td>\n",
       "    </tr>\n",
       "    <tr>\n",
       "      <th>5483</th>\n",
       "      <td>-118.29</td>\n",
       "      <td>33.95</td>\n",
       "      <td>35.0</td>\n",
       "      <td>1401.0</td>\n",
       "      <td>362.0</td>\n",
       "      <td>1357.0</td>\n",
       "      <td>327.0</td>\n",
       "      <td>2.0917</td>\n",
       "      <td>&lt;1H OCEAN</td>\n",
       "    </tr>\n",
       "  </tbody>\n",
       "</table>\n",
       "<p>5484 rows × 9 columns</p>\n",
       "</div>"
      ],
      "text/plain": [
       "      longitude  latitude  housing_median_age  total_rooms  total_bedrooms  \\\n",
       "0       -117.94     33.94                25.0       3250.0           546.0   \n",
       "1       -118.29     33.98                42.0       2833.0           768.0   \n",
       "2       -117.70     33.68                29.0       5650.0          1084.0   \n",
       "3       -118.48     34.20                23.0       2850.0           864.0   \n",
       "4       -118.14     33.95                36.0       1942.0           355.0   \n",
       "...         ...       ...                 ...          ...             ...   \n",
       "5479    -121.85     37.44                 8.0        426.0            61.0   \n",
       "5480    -118.46     34.19                20.0       5992.0          1820.0   \n",
       "5481    -118.12     34.12                52.0       2907.0           317.0   \n",
       "5482    -117.67     33.61                23.0       3588.0           577.0   \n",
       "5483    -118.29     33.95                35.0       1401.0           362.0   \n",
       "\n",
       "      population  households  median_income ocean_proximity  \n",
       "0         1452.0       501.0         5.1084       <1H OCEAN  \n",
       "1         2542.0       725.0         1.3479       <1H OCEAN  \n",
       "2         3985.0      1056.0         2.8192       <1H OCEAN  \n",
       "3         2249.0       777.0         2.6957       <1H OCEAN  \n",
       "4          891.0       348.0         3.6635       <1H OCEAN  \n",
       "...          ...         ...            ...             ...  \n",
       "5479       241.0        55.0         7.3090       <1H OCEAN  \n",
       "5480      4826.0      1632.0         2.7237       <1H OCEAN  \n",
       "5481       956.0       279.0        15.0001       <1H OCEAN  \n",
       "5482      1695.0       569.0         6.1401       <1H OCEAN  \n",
       "5483      1357.0       327.0         2.0917       <1H OCEAN  \n",
       "\n",
       "[5484 rows x 9 columns]"
      ]
     },
     "execution_count": 115,
     "metadata": {},
     "output_type": "execute_result"
    }
   ],
   "source": [
    "df_train"
   ]
  },
  {
   "cell_type": "markdown",
   "id": "3545ff82",
   "metadata": {},
   "source": [
    "## Question 1\n",
    "\n",
    "Let's train a decision tree regressor to predict the `median_house_value` variable. \n",
    "\n",
    "* Train a model with `max_depth=1`.\n",
    "\n",
    "\n",
    "Which feature is used for splitting the data?\n",
    "\n",
    "* `ocean_proximity`\n",
    "* `total_rooms`\n",
    "* `latitude`\n",
    "* `population`"
   ]
  },
  {
   "cell_type": "code",
   "execution_count": 116,
   "id": "0ed6e949",
   "metadata": {},
   "outputs": [],
   "source": [
    "from sklearn.tree import DecisionTreeRegressor, export_text"
   ]
  },
  {
   "cell_type": "code",
   "execution_count": 117,
   "id": "d410aa21",
   "metadata": {},
   "outputs": [],
   "source": [
    "def train_decision_tree_regressor(X, y):\n",
    "    dt = DecisionTreeRegressor(max_depth=1)\n",
    "    dt.fit(X, y)\n",
    "    return dt"
   ]
  },
  {
   "cell_type": "code",
   "execution_count": 118,
   "id": "f6e00fec",
   "metadata": {},
   "outputs": [],
   "source": [
    "dt = train_decision_tree_regressor(X_train, y_train)"
   ]
  },
  {
   "cell_type": "code",
   "execution_count": 119,
   "id": "f630e2c1",
   "metadata": {},
   "outputs": [
    {
     "name": "stdout",
     "output_type": "stream",
     "text": [
      "|--- median_income <= 4.88\n",
      "|   |--- value: [12.14]\n",
      "|--- median_income >  4.88\n",
      "|   |--- value: [12.66]\n",
      "\n"
     ]
    }
   ],
   "source": [
    "print(export_text(dt, feature_names=list(dv.get_feature_names_out())))"
   ]
  },
  {
   "cell_type": "code",
   "execution_count": 120,
   "id": "1f65e662",
   "metadata": {},
   "outputs": [
    {
     "data": {
      "text/plain": [
       "['households',\n",
       " 'housing_median_age',\n",
       " 'latitude',\n",
       " 'longitude',\n",
       " 'median_income',\n",
       " 'ocean_proximity=<1H OCEAN',\n",
       " 'ocean_proximity=ISLAND',\n",
       " 'population',\n",
       " 'total_bedrooms',\n",
       " 'total_rooms']"
      ]
     },
     "execution_count": 120,
     "metadata": {},
     "output_type": "execute_result"
    }
   ],
   "source": [
    "list(dv.get_feature_names_out())"
   ]
  },
  {
   "cell_type": "markdown",
   "id": "8ed279d5",
   "metadata": {},
   "source": [
    "> **Answer** `median_income`"
   ]
  },
  {
   "cell_type": "markdown",
   "id": "7a97a09f",
   "metadata": {},
   "source": [
    "## Question 2\n",
    "\n",
    "Train a random forest model with these parameters:\n",
    "\n",
    "* `n_estimators=10`\n",
    "* `random_state=1`\n",
    "* `n_jobs=-1` (optional - to make training faster)\n",
    "\n",
    "\n",
    "What's the RMSE of this model on validation?\n",
    "\n",
    "* 0.045\n",
    "* 0.245\n",
    "* 0.545\n",
    "* 0.845"
   ]
  },
  {
   "cell_type": "code",
   "execution_count": 121,
   "id": "8120d60f",
   "metadata": {},
   "outputs": [],
   "source": [
    "from sklearn.ensemble import RandomForestRegressor\n",
    "def train_random_forest_regressor(X, y, **kargs):\n",
    "    rfr = RandomForestRegressor(n_estimators = kargs['n_estimators'], \n",
    "                                random_state = kargs['random_state'], \n",
    "                                n_jobs = kargs['n_jobs'])\n",
    "    rfr.fit(X, y)\n",
    "    return rfr"
   ]
  },
  {
   "cell_type": "code",
   "execution_count": 122,
   "id": "7df22a9b",
   "metadata": {},
   "outputs": [],
   "source": [
    "rfr = train_random_forest_regressor(X_train, y_train, n_estimators=10, random_state=1, n_jobs=-1)"
   ]
  },
  {
   "cell_type": "code",
   "execution_count": 127,
   "id": "24b4f42c",
   "metadata": {},
   "outputs": [],
   "source": [
    "from sklearn.metrics import mean_squared_error\n",
    "\n",
    "def rmse(y, y_pred):\n",
    "    mse = mean_squared_error(y, y_pred)\n",
    "    return np.sqrt(mse)"
   ]
  },
  {
   "cell_type": "code",
   "execution_count": 128,
   "id": "f219d1c0",
   "metadata": {},
   "outputs": [],
   "source": [
    "y_pred = rfr.predict(X_val)"
   ]
  },
  {
   "cell_type": "code",
   "execution_count": 129,
   "id": "8a70a7da",
   "metadata": {},
   "outputs": [
    {
     "data": {
      "text/plain": [
       "0.2172514213932212"
      ]
     },
     "execution_count": 129,
     "metadata": {},
     "output_type": "execute_result"
    }
   ],
   "source": [
    "rmse(y_val, y_pred)"
   ]
  },
  {
   "cell_type": "markdown",
   "id": "b314922c",
   "metadata": {},
   "source": [
    "> **Answer** `0.2173`"
   ]
  },
  {
   "cell_type": "markdown",
   "id": "00207b47",
   "metadata": {},
   "source": [
    "## Question 3\n",
    "\n",
    "Now let's experiment with the `n_estimators` parameter\n",
    "\n",
    "* Try different values of this parameter from 10 to 200 with step 10.\n",
    "* Set `random_state` to `1`.\n",
    "* Evaluate the model on the validation dataset.\n",
    "\n",
    "\n",
    "After which value of `n_estimators` does RMSE stop improving?\n",
    "\n",
    "- 10\n",
    "- 25\n",
    "- 50\n",
    "- 160"
   ]
  },
  {
   "cell_type": "code",
   "execution_count": 132,
   "id": "2305833d",
   "metadata": {},
   "outputs": [],
   "source": [
    "def random_forest_regressor_evaluation():\n",
    "    scores = []\n",
    "    for estimator in range(10, 201, 10):\n",
    "        rfr = train_random_forest_regressor(X_train, y_train, \n",
    "                                            n_estimators=estimator, \n",
    "                                            random_state=1, \n",
    "                                            n_jobs=-1)\n",
    "        y_pred = rfr.predict(X_val)\n",
    "        rmse_value = rmse(y_val, y_pred)\n",
    "        scores.append((estimator, rmse_value))\n",
    "    return scores"
   ]
  },
  {
   "cell_type": "code",
   "execution_count": 133,
   "id": "982a2731",
   "metadata": {},
   "outputs": [],
   "source": [
    "scores = random_forest_regressor_evaluation()"
   ]
  },
  {
   "cell_type": "code",
   "execution_count": 134,
   "id": "b99d0593",
   "metadata": {},
   "outputs": [
    {
     "data": {
      "text/plain": [
       "[(10, 0.2172514213932212),\n",
       " (20, 0.21134257841474496),\n",
       " (30, 0.20893072094084034),\n",
       " (40, 0.20680313107908047),\n",
       " (50, 0.20628770892676104),\n",
       " (60, 0.20694522556140263),\n",
       " (70, 0.20709890804013095),\n",
       " (80, 0.20724455738759226),\n",
       " (90, 0.20682189896577366),\n",
       " (100, 0.2067058198869269),\n",
       " (110, 0.20681273698365646),\n",
       " (120, 0.20678744209191818),\n",
       " (130, 0.20675260224004427),\n",
       " (140, 0.20669661698880973),\n",
       " (150, 0.20671186927059385),\n",
       " (160, 0.20699257538993743),\n",
       " (170, 0.20692248646081027),\n",
       " (180, 0.2069228193202345),\n",
       " (190, 0.2069756824128247),\n",
       " (200, 0.20686338809581675)]"
      ]
     },
     "execution_count": 134,
     "metadata": {},
     "output_type": "execute_result"
    }
   ],
   "source": [
    "scores"
   ]
  },
  {
   "cell_type": "code",
   "execution_count": 135,
   "id": "640a245e",
   "metadata": {},
   "outputs": [],
   "source": [
    "df_scores = pd.DataFrame(scores, columns=['n_estimators', 'rmse'])"
   ]
  },
  {
   "cell_type": "code",
   "execution_count": 136,
   "id": "61851384",
   "metadata": {},
   "outputs": [
    {
     "data": {
      "text/html": [
       "<div>\n",
       "<style scoped>\n",
       "    .dataframe tbody tr th:only-of-type {\n",
       "        vertical-align: middle;\n",
       "    }\n",
       "\n",
       "    .dataframe tbody tr th {\n",
       "        vertical-align: top;\n",
       "    }\n",
       "\n",
       "    .dataframe thead th {\n",
       "        text-align: right;\n",
       "    }\n",
       "</style>\n",
       "<table border=\"1\" class=\"dataframe\">\n",
       "  <thead>\n",
       "    <tr style=\"text-align: right;\">\n",
       "      <th></th>\n",
       "      <th>n_estimators</th>\n",
       "      <th>rmse</th>\n",
       "    </tr>\n",
       "  </thead>\n",
       "  <tbody>\n",
       "    <tr>\n",
       "      <th>0</th>\n",
       "      <td>10</td>\n",
       "      <td>0.217251</td>\n",
       "    </tr>\n",
       "    <tr>\n",
       "      <th>1</th>\n",
       "      <td>20</td>\n",
       "      <td>0.211343</td>\n",
       "    </tr>\n",
       "    <tr>\n",
       "      <th>2</th>\n",
       "      <td>30</td>\n",
       "      <td>0.208931</td>\n",
       "    </tr>\n",
       "    <tr>\n",
       "      <th>3</th>\n",
       "      <td>40</td>\n",
       "      <td>0.206803</td>\n",
       "    </tr>\n",
       "    <tr>\n",
       "      <th>4</th>\n",
       "      <td>50</td>\n",
       "      <td>0.206288</td>\n",
       "    </tr>\n",
       "    <tr>\n",
       "      <th>5</th>\n",
       "      <td>60</td>\n",
       "      <td>0.206945</td>\n",
       "    </tr>\n",
       "    <tr>\n",
       "      <th>6</th>\n",
       "      <td>70</td>\n",
       "      <td>0.207099</td>\n",
       "    </tr>\n",
       "    <tr>\n",
       "      <th>7</th>\n",
       "      <td>80</td>\n",
       "      <td>0.207245</td>\n",
       "    </tr>\n",
       "    <tr>\n",
       "      <th>8</th>\n",
       "      <td>90</td>\n",
       "      <td>0.206822</td>\n",
       "    </tr>\n",
       "    <tr>\n",
       "      <th>9</th>\n",
       "      <td>100</td>\n",
       "      <td>0.206706</td>\n",
       "    </tr>\n",
       "    <tr>\n",
       "      <th>10</th>\n",
       "      <td>110</td>\n",
       "      <td>0.206813</td>\n",
       "    </tr>\n",
       "    <tr>\n",
       "      <th>11</th>\n",
       "      <td>120</td>\n",
       "      <td>0.206787</td>\n",
       "    </tr>\n",
       "    <tr>\n",
       "      <th>12</th>\n",
       "      <td>130</td>\n",
       "      <td>0.206753</td>\n",
       "    </tr>\n",
       "    <tr>\n",
       "      <th>13</th>\n",
       "      <td>140</td>\n",
       "      <td>0.206697</td>\n",
       "    </tr>\n",
       "    <tr>\n",
       "      <th>14</th>\n",
       "      <td>150</td>\n",
       "      <td>0.206712</td>\n",
       "    </tr>\n",
       "    <tr>\n",
       "      <th>15</th>\n",
       "      <td>160</td>\n",
       "      <td>0.206993</td>\n",
       "    </tr>\n",
       "    <tr>\n",
       "      <th>16</th>\n",
       "      <td>170</td>\n",
       "      <td>0.206922</td>\n",
       "    </tr>\n",
       "    <tr>\n",
       "      <th>17</th>\n",
       "      <td>180</td>\n",
       "      <td>0.206923</td>\n",
       "    </tr>\n",
       "    <tr>\n",
       "      <th>18</th>\n",
       "      <td>190</td>\n",
       "      <td>0.206976</td>\n",
       "    </tr>\n",
       "    <tr>\n",
       "      <th>19</th>\n",
       "      <td>200</td>\n",
       "      <td>0.206863</td>\n",
       "    </tr>\n",
       "  </tbody>\n",
       "</table>\n",
       "</div>"
      ],
      "text/plain": [
       "    n_estimators      rmse\n",
       "0             10  0.217251\n",
       "1             20  0.211343\n",
       "2             30  0.208931\n",
       "3             40  0.206803\n",
       "4             50  0.206288\n",
       "5             60  0.206945\n",
       "6             70  0.207099\n",
       "7             80  0.207245\n",
       "8             90  0.206822\n",
       "9            100  0.206706\n",
       "10           110  0.206813\n",
       "11           120  0.206787\n",
       "12           130  0.206753\n",
       "13           140  0.206697\n",
       "14           150  0.206712\n",
       "15           160  0.206993\n",
       "16           170  0.206922\n",
       "17           180  0.206923\n",
       "18           190  0.206976\n",
       "19           200  0.206863"
      ]
     },
     "execution_count": 136,
     "metadata": {},
     "output_type": "execute_result"
    }
   ],
   "source": [
    "df_scores"
   ]
  },
  {
   "cell_type": "code",
   "execution_count": 138,
   "id": "4d7a0d2d",
   "metadata": {},
   "outputs": [
    {
     "data": {
      "text/plain": [
       "[<matplotlib.lines.Line2D at 0x7fc0705c96f0>]"
      ]
     },
     "execution_count": 138,
     "metadata": {},
     "output_type": "execute_result"
    },
    {
     "data": {
      "image/png": "[encoded data removed]",
      "text/plain": [
       "<Figure size 640x480 with 1 Axes>"
      ]
     },
     "metadata": {},
     "output_type": "display_data"
    }
   ],
   "source": [
    "from matplotlib import pyplot as plt \n",
    "plt.plot(df_scores.n_estimators, df_scores.rmse)"
   ]
  },
  {
   "cell_type": "markdown",
   "id": "30d3b56f",
   "metadata": {},
   "source": [
    "> **Answer** `10`"
   ]
  },
  {
   "cell_type": "markdown",
   "id": "49e40274",
   "metadata": {},
   "source": [
    "## Question 4\n",
    "\n",
    "Let's select the best `max_depth`:\n",
    "\n",
    "* Try different values of `max_depth`: `[10, 15, 20, 25]`\n",
    "* For each of these values, try different values of `n_estimators` from 10 till 200 (with step 10)\n",
    "* Fix the random seed: `random_state=1`\n",
    "\n",
    "\n",
    "What's the best `max_depth`:\n",
    "\n",
    "* 10\n",
    "* 15\n",
    "* 20\n",
    "* 25"
   ]
  },
  {
   "cell_type": "code",
   "execution_count": 168,
   "id": "e00240ab",
   "metadata": {},
   "outputs": [],
   "source": [
    "def train_random_forest_regressor(X, y, **kwargs):\n",
    "    n_estimators = kwargs.get('n_estimators', 100)  # Default value is 100 if not provided\n",
    "    random_state = kwargs.get('random_state', None)  # Default value is None if not provided\n",
    "    n_jobs = kwargs.get('n_jobs', 1)  # Default value is 1 if not provided\n",
    "    max_depth = kwargs.get('max_depth', None)  # Default value is None if not provided\n",
    "\n",
    "\n",
    "    rfr = RandomForestRegressor(n_estimators = n_estimators, \n",
    "                                random_state = random_state, \n",
    "                                n_jobs = n_jobs,\n",
    "                                max_depth = max_depth)\n",
    "    rfr.fit(X, y)\n",
    "    return rfr"
   ]
  },
  {
   "cell_type": "code",
   "execution_count": 169,
   "id": "6710139b",
   "metadata": {},
   "outputs": [],
   "source": [
    "def random_forest_regressor_evaluation():\n",
    "    scores = []\n",
    "    for max_depth in [10, 15, 20, 25]:\n",
    "        for estimator in range(10, 201, 10):\n",
    "            rfr = train_random_forest_regressor(X_train, y_train, \n",
    "                                                n_estimators=estimator, \n",
    "                                                random_state=1, \n",
    "                                                n_jobs=-1,\n",
    "                                                max_depth=max_depth)\n",
    "            y_pred = rfr.predict(X_val)\n",
    "            rmse_value = rmse(y_val, y_pred)\n",
    "            scores.append((max_depth, estimator, rmse_value))\n",
    "    return scores"
   ]
  },
  {
   "cell_type": "code",
   "execution_count": 170,
   "id": "44ee4b57",
   "metadata": {},
   "outputs": [],
   "source": [
    "scores = random_forest_regressor_evaluation()"
   ]
  },
  {
   "cell_type": "code",
   "execution_count": 171,
   "id": "88662c91",
   "metadata": {},
   "outputs": [],
   "source": [
    "columns = ['max_depth', 'estimator', 'acc']\n",
    "df_scores = pd.DataFrame(scores, columns=columns)"
   ]
  },
  {
   "cell_type": "code",
   "execution_count": 172,
   "id": "5d91c0e4",
   "metadata": {},
   "outputs": [
    {
     "data": {
      "text/html": [
       "<div>\n",
       "<style scoped>\n",
       "    .dataframe tbody tr th:only-of-type {\n",
       "        vertical-align: middle;\n",
       "    }\n",
       "\n",
       "    .dataframe tbody tr th {\n",
       "        vertical-align: top;\n",
       "    }\n",
       "\n",
       "    .dataframe thead tr th {\n",
       "        text-align: left;\n",
       "    }\n",
       "\n",
       "    .dataframe thead tr:last-of-type th {\n",
       "        text-align: right;\n",
       "    }\n",
       "</style>\n",
       "<table border=\"1\" class=\"dataframe\">\n",
       "  <thead>\n",
       "    <tr>\n",
       "      <th></th>\n",
       "      <th colspan=\"4\" halign=\"left\">acc</th>\n",
       "    </tr>\n",
       "    <tr>\n",
       "      <th>max_depth</th>\n",
       "      <th>10</th>\n",
       "      <th>15</th>\n",
       "      <th>20</th>\n",
       "      <th>25</th>\n",
       "    </tr>\n",
       "    <tr>\n",
       "      <th>estimator</th>\n",
       "      <th></th>\n",
       "      <th></th>\n",
       "      <th></th>\n",
       "      <th></th>\n",
       "    </tr>\n",
       "  </thead>\n",
       "  <tbody>\n",
       "    <tr>\n",
       "      <th>10</th>\n",
       "      <td>0.220073</td>\n",
       "      <td>0.216367</td>\n",
       "      <td>0.217146</td>\n",
       "      <td>0.216053</td>\n",
       "    </tr>\n",
       "    <tr>\n",
       "      <th>20</th>\n",
       "      <td>0.217559</td>\n",
       "      <td>0.210807</td>\n",
       "      <td>0.211946</td>\n",
       "      <td>0.210773</td>\n",
       "    </tr>\n",
       "    <tr>\n",
       "      <th>30</th>\n",
       "      <td>0.215749</td>\n",
       "      <td>0.209320</td>\n",
       "      <td>0.209711</td>\n",
       "      <td>0.208775</td>\n",
       "    </tr>\n",
       "    <tr>\n",
       "      <th>40</th>\n",
       "      <td>0.214487</td>\n",
       "      <td>0.207718</td>\n",
       "      <td>0.208012</td>\n",
       "      <td>0.206861</td>\n",
       "    </tr>\n",
       "    <tr>\n",
       "      <th>50</th>\n",
       "      <td>0.213984</td>\n",
       "      <td>0.207275</td>\n",
       "      <td>0.207328</td>\n",
       "      <td>0.206336</td>\n",
       "    </tr>\n",
       "    <tr>\n",
       "      <th>60</th>\n",
       "      <td>0.214533</td>\n",
       "      <td>0.207424</td>\n",
       "      <td>0.207666</td>\n",
       "      <td>0.207071</td>\n",
       "    </tr>\n",
       "    <tr>\n",
       "      <th>70</th>\n",
       "      <td>0.214236</td>\n",
       "      <td>0.207467</td>\n",
       "      <td>0.207362</td>\n",
       "      <td>0.207209</td>\n",
       "    </tr>\n",
       "    <tr>\n",
       "      <th>80</th>\n",
       "      <td>0.214484</td>\n",
       "      <td>0.207711</td>\n",
       "      <td>0.207620</td>\n",
       "      <td>0.207333</td>\n",
       "    </tr>\n",
       "    <tr>\n",
       "      <th>90</th>\n",
       "      <td>0.214048</td>\n",
       "      <td>0.207082</td>\n",
       "      <td>0.207238</td>\n",
       "      <td>0.207040</td>\n",
       "    </tr>\n",
       "    <tr>\n",
       "      <th>100</th>\n",
       "      <td>0.213978</td>\n",
       "      <td>0.207007</td>\n",
       "      <td>0.207273</td>\n",
       "      <td>0.206897</td>\n",
       "    </tr>\n",
       "    <tr>\n",
       "      <th>110</th>\n",
       "      <td>0.213900</td>\n",
       "      <td>0.206984</td>\n",
       "      <td>0.207234</td>\n",
       "      <td>0.206930</td>\n",
       "    </tr>\n",
       "    <tr>\n",
       "      <th>120</th>\n",
       "      <td>0.213647</td>\n",
       "      <td>0.207088</td>\n",
       "      <td>0.207319</td>\n",
       "      <td>0.206969</td>\n",
       "    </tr>\n",
       "    <tr>\n",
       "      <th>130</th>\n",
       "      <td>0.213652</td>\n",
       "      <td>0.207339</td>\n",
       "      <td>0.207349</td>\n",
       "      <td>0.207055</td>\n",
       "    </tr>\n",
       "    <tr>\n",
       "      <th>140</th>\n",
       "      <td>0.213531</td>\n",
       "      <td>0.207163</td>\n",
       "      <td>0.207245</td>\n",
       "      <td>0.207096</td>\n",
       "    </tr>\n",
       "    <tr>\n",
       "      <th>150</th>\n",
       "      <td>0.213479</td>\n",
       "      <td>0.207190</td>\n",
       "      <td>0.207292</td>\n",
       "      <td>0.207090</td>\n",
       "    </tr>\n",
       "    <tr>\n",
       "      <th>160</th>\n",
       "      <td>0.213746</td>\n",
       "      <td>0.207438</td>\n",
       "      <td>0.207509</td>\n",
       "      <td>0.207336</td>\n",
       "    </tr>\n",
       "    <tr>\n",
       "      <th>170</th>\n",
       "      <td>0.213697</td>\n",
       "      <td>0.207402</td>\n",
       "      <td>0.207505</td>\n",
       "      <td>0.207219</td>\n",
       "    </tr>\n",
       "    <tr>\n",
       "      <th>180</th>\n",
       "      <td>0.213766</td>\n",
       "      <td>0.207516</td>\n",
       "      <td>0.207486</td>\n",
       "      <td>0.207216</td>\n",
       "    </tr>\n",
       "    <tr>\n",
       "      <th>190</th>\n",
       "      <td>0.213850</td>\n",
       "      <td>0.207578</td>\n",
       "      <td>0.207478</td>\n",
       "      <td>0.207307</td>\n",
       "    </tr>\n",
       "    <tr>\n",
       "      <th>200</th>\n",
       "      <td>0.213688</td>\n",
       "      <td>0.207560</td>\n",
       "      <td>0.207433</td>\n",
       "      <td>0.207204</td>\n",
       "    </tr>\n",
       "  </tbody>\n",
       "</table>\n",
       "</div>"
      ],
      "text/plain": [
       "                acc                              \n",
       "max_depth        10        15        20        25\n",
       "estimator                                        \n",
       "10         0.220073  0.216367  0.217146  0.216053\n",
       "20         0.217559  0.210807  0.211946  0.210773\n",
       "30         0.215749  0.209320  0.209711  0.208775\n",
       "40         0.214487  0.207718  0.208012  0.206861\n",
       "50         0.213984  0.207275  0.207328  0.206336\n",
       "60         0.214533  0.207424  0.207666  0.207071\n",
       "70         0.214236  0.207467  0.207362  0.207209\n",
       "80         0.214484  0.207711  0.207620  0.207333\n",
       "90         0.214048  0.207082  0.207238  0.207040\n",
       "100        0.213978  0.207007  0.207273  0.206897\n",
       "110        0.213900  0.206984  0.207234  0.206930\n",
       "120        0.213647  0.207088  0.207319  0.206969\n",
       "130        0.213652  0.207339  0.207349  0.207055\n",
       "140        0.213531  0.207163  0.207245  0.207096\n",
       "150        0.213479  0.207190  0.207292  0.207090\n",
       "160        0.213746  0.207438  0.207509  0.207336\n",
       "170        0.213697  0.207402  0.207505  0.207219\n",
       "180        0.213766  0.207516  0.207486  0.207216\n",
       "190        0.213850  0.207578  0.207478  0.207307\n",
       "200        0.213688  0.207560  0.207433  0.207204"
      ]
     },
     "execution_count": 172,
     "metadata": {},
     "output_type": "execute_result"
    }
   ],
   "source": [
    "df_scores_pivot = df_scores.pivot(index='estimator', columns=['max_depth'], values=['acc'])\n",
    "df_scores_pivot"
   ]
  },
  {
   "cell_type": "code",
   "execution_count": 173,
   "id": "d31ad844",
   "metadata": {},
   "outputs": [
    {
     "data": {
      "text/plain": [
       "<Axes: xlabel='None-max_depth', ylabel='estimator'>"
      ]
     },
     "execution_count": 173,
     "metadata": {},
     "output_type": "execute_result"
    },
    {
     "data": {
      "image/png": "[encoded data removed]",
      "text/plain": [
       "<Figure size 640x480 with 2 Axes>"
      ]
     },
     "metadata": {},
     "output_type": "display_data"
    }
   ],
   "source": [
    "import seaborn as sns\n",
    "sns.heatmap(df_scores_pivot, annot=True, fmt=\".5f\")"
   ]
  },
  {
   "cell_type": "markdown",
   "id": "72cc75a2",
   "metadata": {},
   "source": [
    "> **Answer** `max_depth = 10`"
   ]
  },
  {
   "cell_type": "markdown",
   "id": "53d9ff9b",
   "metadata": {},
   "source": [
    "# Question 5\n",
    "\n",
    "We can extract feature importance information from tree-based models. \n",
    "\n",
    "At each step of the decision tree learning algorith, it finds the best split. \n",
    "When doint it, we can calculate \"gain\" - the reduction in impurity before and after the split. \n",
    "This gain is quite useful in understanding what are the imporatant features \n",
    "for tree-based models.\n",
    "\n",
    "In Scikit-Learn, tree-based models contain this information in the\n",
    "[`feature_importances_`](https://scikit-learn.org/stable/modules/generated/sklearn.ensemble.RandomForestRegressor.html#sklearn.ensemble.RandomForestRegressor.feature_importances_)\n",
    "field. \n",
    "\n",
    "For this homework question, we'll find the most important feature:\n",
    "\n",
    "* Train the model with these parametes:\n",
    "    * `n_estimators=10`,\n",
    "    * `max_depth=20`,\n",
    "    * `random_state=1`,\n",
    "    * `n_jobs=-1` (optional)\n",
    "* Get the feature importance information from this model\n",
    "\n",
    "\n",
    "What's the most important feature? \n",
    "\n",
    "* `total_rooms`\n",
    "* `median_income`\t\n",
    "* `total_bedrooms`\n",
    "* `longitude`"
   ]
  },
  {
   "cell_type": "code",
   "execution_count": 174,
   "id": "8955c3c0",
   "metadata": {},
   "outputs": [],
   "source": [
    "rfr = train_random_forest_regressor(X_train, y_train, \n",
    "                                    n_estimators=10, \n",
    "                                    random_state=1, \n",
    "                                    n_jobs=-1,\n",
    "                                    max_depth=20)"
   ]
  },
  {
   "cell_type": "code",
   "execution_count": 178,
   "id": "02203a04",
   "metadata": {},
   "outputs": [],
   "source": [
    "feature_importance = rfr.feature_importances_"
   ]
  },
  {
   "cell_type": "code",
   "execution_count": 179,
   "id": "9ab262d0",
   "metadata": {},
   "outputs": [],
   "source": [
    "feature_list = list(dv.get_feature_names_out())"
   ]
  },
  {
   "cell_type": "code",
   "execution_count": 182,
   "id": "32bec55a",
   "metadata": {},
   "outputs": [
    {
     "name": "stdout",
     "output_type": "stream",
     "text": [
      "households: 0.023701865358874075\n",
      "housing_median_age: 0.04765415621973393\n",
      "latitude: 0.16700112957714555\n",
      "longitude: 0.1506308091290344\n",
      "median_income: 0.5113042127447004\n",
      "ocean_proximity=<1H OCEAN: 0.0013705602622612616\n",
      "ocean_proximity=ISLAND: 0.0009318721657234897\n",
      "population: 0.03995623784837569\n",
      "total_bedrooms: 0.023002178087113467\n",
      "total_rooms: 0.03444697860703772\n"
     ]
    }
   ],
   "source": [
    "for feature, importance in zip(feature_list, feature_importance):\n",
    "    print(f\"{feature}: {importance}\")"
   ]
  },
  {
   "cell_type": "markdown",
   "id": "6b4b0b39",
   "metadata": {},
   "source": [
    "> **Answer** `median_income: 0.5113042127447004`"
   ]
  },
  {
   "cell_type": "markdown",
   "id": "81b37875",
   "metadata": {},
   "source": [
    "## Question 6\n",
    "\n",
    "Now let's train an XGBoost model! For this question, we'll tune the `eta` parameter:\n",
    "\n",
    "* Install XGBoost\n",
    "* Create DMatrix for train and validation\n",
    "* Create a watchlist\n",
    "* Train a model with these parameters for 100 rounds:\n",
    "\n",
    "```\n",
    "xgb_params = {\n",
    "    'eta': 0.3, \n",
    "    'max_depth': 6,\n",
    "    'min_child_weight': 1,\n",
    "    \n",
    "    'objective': 'reg:squarederror',\n",
    "    'nthread': 8,\n",
    "    \n",
    "    'seed': 1,\n",
    "    'verbosity': 1,\n",
    "}\n",
    "```\n",
    "\n",
    "Now change `eta` from `0.3` to `0.1`.\n",
    "\n",
    "Which eta leads to the best RMSE score on the validation dataset?\n",
    "\n",
    "* 0.3\n",
    "* 0.1\n",
    "* Both gives same"
   ]
  },
  {
   "cell_type": "code",
   "execution_count": 187,
   "id": "656e401c",
   "metadata": {},
   "outputs": [
    {
     "name": "stdout",
     "output_type": "stream",
     "text": [
      "0.1\n",
      "0.2\n",
      "0.3\n"
     ]
    }
   ],
   "source": [
    "for eta in range (1, 4, 1):\n",
    "    print(round(eta*0.1, 1))"
   ]
  },
  {
   "cell_type": "markdown",
   "id": "acfe227a",
   "metadata": {},
   "source": [
    "### Install XGBoost"
   ]
  },
  {
   "cell_type": "code",
   "execution_count": 188,
   "id": "cc0a7762",
   "metadata": {},
   "outputs": [
    {
     "name": "stdout",
     "output_type": "stream",
     "text": [
      "Requirement already satisfied: xgboost in /usr/local/anaconda3/lib/python3.10/site-packages (1.7.5)\n",
      "Requirement already satisfied: numpy in /usr/local/anaconda3/lib/python3.10/site-packages (from xgboost) (1.25.1)\n",
      "Requirement already satisfied: scipy in /usr/local/anaconda3/lib/python3.10/site-packages (from xgboost) (1.11.1)\n",
      "\n",
      "\u001b[1m[\u001b[0m\u001b[34;49mnotice\u001b[0m\u001b[1;39;49m]\u001b[0m\u001b[39;49m A new release of pip is available: \u001b[0m\u001b[31;49m23.2.1\u001b[0m\u001b[39;49m -> \u001b[0m\u001b[32;49m23.3\u001b[0m\n",
      "\u001b[1m[\u001b[0m\u001b[34;49mnotice\u001b[0m\u001b[1;39;49m]\u001b[0m\u001b[39;49m To update, run: \u001b[0m\u001b[32;49mpip install --upgrade pip\u001b[0m\n"
     ]
    }
   ],
   "source": [
    "!pip install xgboost"
   ]
  },
  {
   "cell_type": "markdown",
   "id": "03b3ae6c",
   "metadata": {},
   "source": [
    "### Create DMatrix for train and validation"
   ]
  },
  {
   "cell_type": "code",
   "execution_count": 192,
   "id": "0d1d44fc",
   "metadata": {},
   "outputs": [
    {
     "data": {
      "text/plain": [
       "array(['households', 'housing_median_age', 'latitude', 'longitude',\n",
       "       'median_income', 'ocean_proximity=<1H OCEAN',\n",
       "       'ocean_proximity=ISLAND', 'population', 'total_bedrooms',\n",
       "       'total_rooms'], dtype=object)"
      ]
     },
     "execution_count": 192,
     "metadata": {},
     "output_type": "execute_result"
    }
   ],
   "source": [
    "features = dv.get_feature_names_out()\n",
    "features"
   ]
  },
  {
   "cell_type": "code",
   "execution_count": 194,
   "id": "64c9f91e",
   "metadata": {},
   "outputs": [],
   "source": [
    "features = ['households', 'housing_median_age', 'latitude', 'longitude',\n",
    "       'median_income', 'ocean_proximity_1H_OCEAN',\n",
    "       'ocean_proximity_ISLAND', 'population', 'total_bedrooms',\n",
    "       'total_rooms']"
   ]
  },
  {
   "cell_type": "code",
   "execution_count": 195,
   "id": "d19b76af",
   "metadata": {},
   "outputs": [],
   "source": [
    "import xgboost as xgb\n",
    "dtrain = xgb.DMatrix(X_train, label=y_train, feature_names=features)\n",
    "dval = xgb.DMatrix(X_val, label=y_val, feature_names=features)"
   ]
  },
  {
   "cell_type": "code",
   "execution_count": 198,
   "id": "d84c52e5",
   "metadata": {},
   "outputs": [
    {
     "name": "stdout",
     "output_type": "stream",
     "text": [
      "eta: 0.1, rmse : 0.21024975739580765\n",
      "eta: 0.2, rmse : 0.2094816585709805\n",
      "eta: 0.3, rmse : 0.20885107181942097\n"
     ]
    }
   ],
   "source": [
    "for eta in range (1, 4, 1):\n",
    "    eta_value = round(eta * 0.1, 1)\n",
    "    xgb_params = {\n",
    "        'eta': eta_value, \n",
    "        'max_depth': 6,\n",
    "        'min_child_weight': 1,\n",
    "\n",
    "        'objective': 'reg:squarederror',\n",
    "        'nthread': 8,\n",
    "\n",
    "        'seed': 1,\n",
    "        'verbosity': 1,\n",
    "    }\n",
    "\n",
    "    model = xgb.train(xgb_params, dtrain, num_boost_round=100)\n",
    "    y_pred = model.predict(dval)\n",
    "    rmse_value = rmse(y_val, y_pred)\n",
    "    print(f\"eta: {eta_value}, rmse : {rmse_value}\")"
   ]
  },
  {
   "cell_type": "markdown",
   "id": "d1b86528",
   "metadata": {},
   "source": [
    "> **Answer** `eta: 0.1, rmse : 0.21024975739580765`"
   ]
  },
  {
   "cell_type": "code",
   "execution_count": null,
   "id": "d77b9fa0",
   "metadata": {},
   "outputs": [],
   "source": []
  }
 ],
 "metadata": {
  "kernelspec": {
   "display_name": "Python 3 (ipykernel)",
   "language": "python",
   "name": "python3"
  },
  "language_info": {
   "codemirror_mode": {
    "name": "ipython",
    "version": 3
   },
   "file_extension": ".py",
   "mimetype": "text/x-python",
   "name": "python",
   "nbconvert_exporter": "python",
   "pygments_lexer": "ipython3",
   "version": "3.10.9"
  }
 },
 "nbformat": 4,
 "nbformat_minor": 5
}
