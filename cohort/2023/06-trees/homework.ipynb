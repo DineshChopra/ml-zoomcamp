{
 "cells": [
  {
   "cell_type": "markdown",
   "id": "c9414c67",
   "metadata": {},
   "source": [
    "# California Housing Prices [Kaggle Link](https://www.kaggle.com/datasets/camnugent/california-housing-prices)"
   ]
  },
  {
   "cell_type": "code",
   "execution_count": 1,
   "id": "6978c785",
   "metadata": {},
   "outputs": [
    {
     "name": "stdout",
     "output_type": "stream",
     "text": [
      "--2023-10-17 09:47:02--  https://raw.githubusercontent.com/alexeygrigorev/datasets/master/housing.csv\n",
      "Resolving raw.githubusercontent.com (raw.githubusercontent.com)... 185.199.110.133, 185.199.111.133, 185.199.108.133, ...\n",
      "Connecting to raw.githubusercontent.com (raw.githubusercontent.com)|185.199.110.133|:443... connected.\n",
      "HTTP request sent, awaiting response... 200 OK\n",
      "Length: 1423529 (1.4M) [text/plain]\n",
      "Saving to: ‘housing.csv’\n",
      "\n",
      "housing.csv         100%[===================>]   1.36M  1.78MB/s    in 0.8s    \n",
      "\n",
      "2023-10-17 09:47:04 (1.78 MB/s) - ‘housing.csv’ saved [1423529/1423529]\n",
      "\n"
     ]
    }
   ],
   "source": [
    "# Get the dataset\n",
    "!wget https://raw.githubusercontent.com/alexeygrigorev/datasets/master/housing.csv"
   ]
  },
  {
   "cell_type": "code",
   "execution_count": 243,
   "id": "27f21936",
   "metadata": {},
   "outputs": [],
   "source": [
    "import pandas as pd\n",
    "def load_dataset(data_file: str = \"housing.csv\"):\n",
    "    df = pd.read_csv(data_file)\n",
    "    return df"
   ]
  },
  {
   "cell_type": "code",
   "execution_count": 265,
   "id": "bc4c57c1",
   "metadata": {},
   "outputs": [],
   "source": [
    "df = load_dataset()"
   ]
  },
  {
   "cell_type": "markdown",
   "id": "f3034afc",
   "metadata": {},
   "source": [
    "### Preparing the dataset \n",
    "\n",
    "For this homework, we only want to use a subset of data. This is the same subset we used in homework #2.\n",
    "\n",
    "First, keep only the records where `ocean_proximity` is either `'<1H OCEAN'` or `'INLAND'`\n",
    "\n",
    "Preparation:\n",
    "\n",
    "* Apply the log tranform to `median_house_value`.\n",
    "* Do train/validation/test split with 60%/20%/20% distribution. \n",
    "* Use the `train_test_split` function and set the `random_state` parameter to 1.\n",
    "* Use `DictVectorizer(sparse=True)` to turn the dataframe into matrices."
   ]
  },
  {
   "cell_type": "code",
   "execution_count": 266,
   "id": "f056003c",
   "metadata": {},
   "outputs": [
    {
     "data": {
      "text/plain": [
       "ocean_proximity\n",
       "<1H OCEAN     9136\n",
       "INLAND        6551\n",
       "NEAR OCEAN    2658\n",
       "NEAR BAY      2290\n",
       "ISLAND           5\n",
       "Name: count, dtype: int64"
      ]
     },
     "execution_count": 266,
     "metadata": {},
     "output_type": "execute_result"
    }
   ],
   "source": [
    "df['ocean_proximity'].value_counts()"
   ]
  },
  {
   "cell_type": "code",
   "execution_count": 267,
   "id": "57f7482e",
   "metadata": {},
   "outputs": [],
   "source": [
    "df = df[(df['ocean_proximity'] == '<1H OCEAN') | (df['ocean_proximity'] == 'INLAND')]\n",
    "# df = df[df['ocean_proximity'].isin(['<1H OCEAN', 'INLAND'])]"
   ]
  },
  {
   "cell_type": "code",
   "execution_count": 268,
   "id": "f113f6be",
   "metadata": {},
   "outputs": [
    {
     "data": {
      "text/plain": [
       "longitude               0\n",
       "latitude                0\n",
       "housing_median_age      0\n",
       "total_rooms             0\n",
       "total_bedrooms        157\n",
       "population              0\n",
       "households              0\n",
       "median_income           0\n",
       "median_house_value      0\n",
       "ocean_proximity         0\n",
       "dtype: int64"
      ]
     },
     "execution_count": 268,
     "metadata": {},
     "output_type": "execute_result"
    }
   ],
   "source": [
    "df.isnull().sum()"
   ]
  },
  {
   "cell_type": "code",
   "execution_count": 269,
   "id": "cb9b9d19",
   "metadata": {},
   "outputs": [],
   "source": [
    "df.fillna(value=0, inplace=True)"
   ]
  },
  {
   "cell_type": "code",
   "execution_count": 270,
   "id": "083ea197",
   "metadata": {},
   "outputs": [
    {
     "data": {
      "text/plain": [
       "longitude             0\n",
       "latitude              0\n",
       "housing_median_age    0\n",
       "total_rooms           0\n",
       "total_bedrooms        0\n",
       "population            0\n",
       "households            0\n",
       "median_income         0\n",
       "median_house_value    0\n",
       "ocean_proximity       0\n",
       "dtype: int64"
      ]
     },
     "execution_count": 270,
     "metadata": {},
     "output_type": "execute_result"
    }
   ],
   "source": [
    "df.isnull().sum()"
   ]
  },
  {
   "cell_type": "code",
   "execution_count": 271,
   "id": "162e712a",
   "metadata": {},
   "outputs": [
    {
     "data": {
      "text/plain": [
       "ocean_proximity\n",
       "<1H OCEAN    9136\n",
       "INLAND       6551\n",
       "Name: count, dtype: int64"
      ]
     },
     "execution_count": 271,
     "metadata": {},
     "output_type": "execute_result"
    }
   ],
   "source": [
    "df['ocean_proximity'].value_counts()"
   ]
  },
  {
   "cell_type": "markdown",
   "id": "5c8b9633",
   "metadata": {},
   "source": [
    "### Apply the log tranform to `median_house_value`."
   ]
  },
  {
   "cell_type": "code",
   "execution_count": 272,
   "id": "3526b3dd",
   "metadata": {},
   "outputs": [],
   "source": [
    "import numpy as np\n",
    "df.loc[:, 'median_house_value'] = np.log1p(df['median_house_value'])"
   ]
  },
  {
   "cell_type": "markdown",
   "id": "e3cbec2e",
   "metadata": {},
   "source": [
    "### Do train/validation/test split with 60%/20%/20% distribution."
   ]
  },
  {
   "cell_type": "code",
   "execution_count": 273,
   "id": "10a63e9e",
   "metadata": {},
   "outputs": [],
   "source": [
    "from sklearn.model_selection import train_test_split\n",
    "\n",
    "def split_train_val_test_dataset(df):\n",
    "    df.fillna(value=0, inplace=True)\n",
    "    df_full_train, df_test = train_test_split(df, test_size=0.2, random_state=1)\n",
    "    df_train, df_val = train_test_split(df_full_train, test_size=0.25, random_state=1)\n",
    "    \n",
    "    df_train = df_train.reset_index(drop=True)\n",
    "    df_val = df_val.reset_index(drop=True)\n",
    "    df_test = df_test.reset_index(drop=True)\n",
    "    \n",
    "    y_train = df_train['median_house_value'].values\n",
    "    y_val = df_val['median_house_value'].values\n",
    "    y_test = df_test['median_house_value'].values\n",
    "    \n",
    "    del df_train['median_house_value']\n",
    "    del df_val['median_house_value']\n",
    "    del df_test['median_house_value']\n",
    "    return df_train, df_val, df_test, y_train, y_val, y_test\n",
    "    \n",
    "    "
   ]
  },
  {
   "cell_type": "code",
   "execution_count": 274,
   "id": "05b87797",
   "metadata": {},
   "outputs": [],
   "source": [
    "df_train, df_val, df_test, y_train, y_val, y_test = split_train_val_test_dataset(df)"
   ]
  },
  {
   "cell_type": "markdown",
   "id": "75218ff1",
   "metadata": {},
   "source": [
    "### Use `DictVectorizer(sparse=True)` to turn the dataframe into matrices."
   ]
  },
  {
   "cell_type": "code",
   "execution_count": 275,
   "id": "12e09d2c",
   "metadata": {},
   "outputs": [],
   "source": [
    "from sklearn.feature_extraction import DictVectorizer\n",
    "\n",
    "def trun_train_dataframe_into_matrices(df):\n",
    "    dv = DictVectorizer(sparse=False)\n",
    "    df_dict = df.to_dict(orient='records')\n",
    "    X = dv.fit_transform(df_dict)\n",
    "    return dv, X"
   ]
  },
  {
   "cell_type": "code",
   "execution_count": 276,
   "id": "ed869ed2",
   "metadata": {},
   "outputs": [],
   "source": [
    "def trun_val_dataframe_into_matrices(df, dv):\n",
    "    df_dict = df.to_dict(orient='records')\n",
    "    X = dv.transform(df_dict)\n",
    "    return X"
   ]
  },
  {
   "cell_type": "code",
   "execution_count": 277,
   "id": "72b35516",
   "metadata": {},
   "outputs": [],
   "source": [
    "def trun_dataframe_into_matrices(df_train, df_val):\n",
    "    dv, X_train = trun_train_dataframe_into_matrices(df_train)\n",
    "    X_val = trun_val_dataframe_into_matrices(df_val, dv)\n",
    "    return X_train, X_val, dv"
   ]
  },
  {
   "cell_type": "code",
   "execution_count": 278,
   "id": "0b25251d",
   "metadata": {},
   "outputs": [],
   "source": [
    "X_train, X_val, dv = trun_dataframe_into_matrices(df_train, df_val)"
   ]
  },
  {
   "cell_type": "code",
   "execution_count": 279,
   "id": "669e0fc6",
   "metadata": {},
   "outputs": [
    {
     "data": {
      "text/plain": [
       "array([  68.   ,   13.   ,   37.93 , -120.25 ,    3.375,    0.   ,\n",
       "          1.   ,  196.   ,   76.   ,  493.   ])"
      ]
     },
     "execution_count": 279,
     "metadata": {},
     "output_type": "execute_result"
    }
   ],
   "source": [
    "X_train[0]"
   ]
  },
  {
   "cell_type": "code",
   "execution_count": 280,
   "id": "be6045c2",
   "metadata": {},
   "outputs": [],
   "source": [
    "# longitude,latitude,housing_median_age,total_rooms,\n",
    "# total_bedrooms,population,households,median_income,\n",
    "# median_house_value,ocean_proximity"
   ]
  },
  {
   "cell_type": "code",
   "execution_count": 281,
   "id": "ceb4415a",
   "metadata": {},
   "outputs": [
    {
     "data": {
      "text/html": [
       "<div>\n",
       "<style scoped>\n",
       "    .dataframe tbody tr th:only-of-type {\n",
       "        vertical-align: middle;\n",
       "    }\n",
       "\n",
       "    .dataframe tbody tr th {\n",
       "        vertical-align: top;\n",
       "    }\n",
       "\n",
       "    .dataframe thead th {\n",
       "        text-align: right;\n",
       "    }\n",
       "</style>\n",
       "<table border=\"1\" class=\"dataframe\">\n",
       "  <thead>\n",
       "    <tr style=\"text-align: right;\">\n",
       "      <th></th>\n",
       "      <th>longitude</th>\n",
       "      <th>latitude</th>\n",
       "      <th>housing_median_age</th>\n",
       "      <th>total_rooms</th>\n",
       "      <th>total_bedrooms</th>\n",
       "      <th>population</th>\n",
       "      <th>households</th>\n",
       "      <th>median_income</th>\n",
       "      <th>ocean_proximity</th>\n",
       "    </tr>\n",
       "  </thead>\n",
       "  <tbody>\n",
       "    <tr>\n",
       "      <th>0</th>\n",
       "      <td>-120.25</td>\n",
       "      <td>37.93</td>\n",
       "      <td>13.0</td>\n",
       "      <td>493.0</td>\n",
       "      <td>76.0</td>\n",
       "      <td>196.0</td>\n",
       "      <td>68.0</td>\n",
       "      <td>3.3750</td>\n",
       "      <td>INLAND</td>\n",
       "    </tr>\n",
       "    <tr>\n",
       "      <th>1</th>\n",
       "      <td>-118.40</td>\n",
       "      <td>34.00</td>\n",
       "      <td>10.0</td>\n",
       "      <td>1526.0</td>\n",
       "      <td>339.0</td>\n",
       "      <td>705.0</td>\n",
       "      <td>268.0</td>\n",
       "      <td>5.8083</td>\n",
       "      <td>&lt;1H OCEAN</td>\n",
       "    </tr>\n",
       "    <tr>\n",
       "      <th>2</th>\n",
       "      <td>-121.67</td>\n",
       "      <td>38.85</td>\n",
       "      <td>46.0</td>\n",
       "      <td>645.0</td>\n",
       "      <td>131.0</td>\n",
       "      <td>410.0</td>\n",
       "      <td>122.0</td>\n",
       "      <td>1.7417</td>\n",
       "      <td>INLAND</td>\n",
       "    </tr>\n",
       "    <tr>\n",
       "      <th>3</th>\n",
       "      <td>-118.14</td>\n",
       "      <td>33.88</td>\n",
       "      <td>24.0</td>\n",
       "      <td>3305.0</td>\n",
       "      <td>982.0</td>\n",
       "      <td>2085.0</td>\n",
       "      <td>881.0</td>\n",
       "      <td>2.6641</td>\n",
       "      <td>&lt;1H OCEAN</td>\n",
       "    </tr>\n",
       "    <tr>\n",
       "      <th>4</th>\n",
       "      <td>-118.11</td>\n",
       "      <td>33.92</td>\n",
       "      <td>34.0</td>\n",
       "      <td>1414.0</td>\n",
       "      <td>263.0</td>\n",
       "      <td>983.0</td>\n",
       "      <td>264.0</td>\n",
       "      <td>4.1767</td>\n",
       "      <td>&lt;1H OCEAN</td>\n",
       "    </tr>\n",
       "    <tr>\n",
       "      <th>...</th>\n",
       "      <td>...</td>\n",
       "      <td>...</td>\n",
       "      <td>...</td>\n",
       "      <td>...</td>\n",
       "      <td>...</td>\n",
       "      <td>...</td>\n",
       "      <td>...</td>\n",
       "      <td>...</td>\n",
       "      <td>...</td>\n",
       "    </tr>\n",
       "    <tr>\n",
       "      <th>9406</th>\n",
       "      <td>-118.00</td>\n",
       "      <td>34.12</td>\n",
       "      <td>37.0</td>\n",
       "      <td>1340.0</td>\n",
       "      <td>325.0</td>\n",
       "      <td>928.0</td>\n",
       "      <td>333.0</td>\n",
       "      <td>3.9219</td>\n",
       "      <td>INLAND</td>\n",
       "    </tr>\n",
       "    <tr>\n",
       "      <th>9407</th>\n",
       "      <td>-118.10</td>\n",
       "      <td>34.10</td>\n",
       "      <td>34.0</td>\n",
       "      <td>2578.0</td>\n",
       "      <td>645.0</td>\n",
       "      <td>1628.0</td>\n",
       "      <td>617.0</td>\n",
       "      <td>2.3400</td>\n",
       "      <td>&lt;1H OCEAN</td>\n",
       "    </tr>\n",
       "    <tr>\n",
       "      <th>9408</th>\n",
       "      <td>-117.45</td>\n",
       "      <td>34.01</td>\n",
       "      <td>26.0</td>\n",
       "      <td>3042.0</td>\n",
       "      <td>598.0</td>\n",
       "      <td>1720.0</td>\n",
       "      <td>551.0</td>\n",
       "      <td>2.7600</td>\n",
       "      <td>INLAND</td>\n",
       "    </tr>\n",
       "    <tr>\n",
       "      <th>9409</th>\n",
       "      <td>-117.94</td>\n",
       "      <td>34.03</td>\n",
       "      <td>35.0</td>\n",
       "      <td>1375.0</td>\n",
       "      <td>249.0</td>\n",
       "      <td>1015.0</td>\n",
       "      <td>239.0</td>\n",
       "      <td>4.0521</td>\n",
       "      <td>&lt;1H OCEAN</td>\n",
       "    </tr>\n",
       "    <tr>\n",
       "      <th>9410</th>\n",
       "      <td>-120.02</td>\n",
       "      <td>36.80</td>\n",
       "      <td>25.0</td>\n",
       "      <td>1270.0</td>\n",
       "      <td>255.0</td>\n",
       "      <td>1050.0</td>\n",
       "      <td>245.0</td>\n",
       "      <td>2.1618</td>\n",
       "      <td>INLAND</td>\n",
       "    </tr>\n",
       "  </tbody>\n",
       "</table>\n",
       "<p>9411 rows × 9 columns</p>\n",
       "</div>"
      ],
      "text/plain": [
       "      longitude  latitude  housing_median_age  total_rooms  total_bedrooms  \\\n",
       "0       -120.25     37.93                13.0        493.0            76.0   \n",
       "1       -118.40     34.00                10.0       1526.0           339.0   \n",
       "2       -121.67     38.85                46.0        645.0           131.0   \n",
       "3       -118.14     33.88                24.0       3305.0           982.0   \n",
       "4       -118.11     33.92                34.0       1414.0           263.0   \n",
       "...         ...       ...                 ...          ...             ...   \n",
       "9406    -118.00     34.12                37.0       1340.0           325.0   \n",
       "9407    -118.10     34.10                34.0       2578.0           645.0   \n",
       "9408    -117.45     34.01                26.0       3042.0           598.0   \n",
       "9409    -117.94     34.03                35.0       1375.0           249.0   \n",
       "9410    -120.02     36.80                25.0       1270.0           255.0   \n",
       "\n",
       "      population  households  median_income ocean_proximity  \n",
       "0          196.0        68.0         3.3750          INLAND  \n",
       "1          705.0       268.0         5.8083       <1H OCEAN  \n",
       "2          410.0       122.0         1.7417          INLAND  \n",
       "3         2085.0       881.0         2.6641       <1H OCEAN  \n",
       "4          983.0       264.0         4.1767       <1H OCEAN  \n",
       "...          ...         ...            ...             ...  \n",
       "9406       928.0       333.0         3.9219          INLAND  \n",
       "9407      1628.0       617.0         2.3400       <1H OCEAN  \n",
       "9408      1720.0       551.0         2.7600          INLAND  \n",
       "9409      1015.0       239.0         4.0521       <1H OCEAN  \n",
       "9410      1050.0       245.0         2.1618          INLAND  \n",
       "\n",
       "[9411 rows x 9 columns]"
      ]
     },
     "execution_count": 281,
     "metadata": {},
     "output_type": "execute_result"
    }
   ],
   "source": [
    "df_train"
   ]
  },
  {
   "cell_type": "markdown",
   "id": "624262c5",
   "metadata": {},
   "source": [
    "## Question 1\n",
    "\n",
    "Let's train a decision tree regressor to predict the `median_house_value` variable. \n",
    "\n",
    "* Train a model with `max_depth=1`.\n",
    "\n",
    "\n",
    "Which feature is used for splitting the data?\n",
    "\n",
    "* `ocean_proximity`\n",
    "* `total_rooms`\n",
    "* `latitude`\n",
    "* `population`"
   ]
  },
  {
   "cell_type": "code",
   "execution_count": 282,
   "id": "a77ce004",
   "metadata": {},
   "outputs": [],
   "source": [
    "from sklearn.tree import DecisionTreeRegressor, export_text"
   ]
  },
  {
   "cell_type": "code",
   "execution_count": 283,
   "id": "1b065ab1",
   "metadata": {},
   "outputs": [],
   "source": [
    "def train_decision_tree_regressor(X, y):\n",
    "    dt = DecisionTreeRegressor(max_depth=1)\n",
    "    dt.fit(X, y)\n",
    "    return dt"
   ]
  },
  {
   "cell_type": "code",
   "execution_count": 284,
   "id": "3215d9bf",
   "metadata": {},
   "outputs": [],
   "source": [
    "dt = train_decision_tree_regressor(X_train, y_train)"
   ]
  },
  {
   "cell_type": "code",
   "execution_count": 285,
   "id": "3d73b784",
   "metadata": {},
   "outputs": [
    {
     "name": "stdout",
     "output_type": "stream",
     "text": [
      "|--- ocean_proximity=<1H OCEAN <= 0.50\n",
      "|   |--- value: [11.61]\n",
      "|--- ocean_proximity=<1H OCEAN >  0.50\n",
      "|   |--- value: [12.30]\n",
      "\n"
     ]
    }
   ],
   "source": [
    "print(export_text(dt, feature_names=list(dv.get_feature_names_out())))"
   ]
  },
  {
   "cell_type": "code",
   "execution_count": 286,
   "id": "06dc1e08",
   "metadata": {},
   "outputs": [
    {
     "data": {
      "text/plain": [
       "['households',\n",
       " 'housing_median_age',\n",
       " 'latitude',\n",
       " 'longitude',\n",
       " 'median_income',\n",
       " 'ocean_proximity=<1H OCEAN',\n",
       " 'ocean_proximity=INLAND',\n",
       " 'population',\n",
       " 'total_bedrooms',\n",
       " 'total_rooms']"
      ]
     },
     "execution_count": 286,
     "metadata": {},
     "output_type": "execute_result"
    }
   ],
   "source": [
    "list(dv.get_feature_names_out())"
   ]
  },
  {
   "cell_type": "markdown",
   "id": "940c38fb",
   "metadata": {},
   "source": [
    "> **Answer** `ocean_proximity`"
   ]
  },
  {
   "cell_type": "markdown",
   "id": "434a43dc",
   "metadata": {},
   "source": [
    "## Question 2\n",
    "\n",
    "Train a random forest model with these parameters:\n",
    "\n",
    "* `n_estimators=10`\n",
    "* `random_state=1`\n",
    "* `n_jobs=-1` (optional - to make training faster)\n",
    "\n",
    "\n",
    "What's the RMSE of this model on validation?\n",
    "\n",
    "* 0.045\n",
    "* 0.245\n",
    "* 0.545\n",
    "* 0.845"
   ]
  },
  {
   "cell_type": "code",
   "execution_count": 287,
   "id": "291a11bb",
   "metadata": {},
   "outputs": [],
   "source": [
    "from sklearn.ensemble import RandomForestRegressor\n",
    "def train_random_forest_regressor(X, y, **kargs):\n",
    "    rfr = RandomForestRegressor(n_estimators = kargs['n_estimators'], \n",
    "                                random_state = kargs['random_state'], \n",
    "                                n_jobs = kargs['n_jobs'])\n",
    "    rfr.fit(X, y)\n",
    "    return rfr"
   ]
  },
  {
   "cell_type": "code",
   "execution_count": 288,
   "id": "b63fd8cb",
   "metadata": {},
   "outputs": [],
   "source": [
    "rfr = train_random_forest_regressor(X_train, y_train, n_estimators=10, random_state=1, n_jobs=-1)"
   ]
  },
  {
   "cell_type": "code",
   "execution_count": 292,
   "id": "f7e1196e",
   "metadata": {},
   "outputs": [],
   "source": [
    "from sklearn.metrics import mean_squared_error\n",
    "\n",
    "def rmse(y, y_pred):\n",
    "    mse = mean_squared_error(y, y_pred)\n",
    "    return round(np.sqrt(mse), 3)"
   ]
  },
  {
   "cell_type": "code",
   "execution_count": 293,
   "id": "9ad54412",
   "metadata": {},
   "outputs": [],
   "source": [
    "y_pred = rfr.predict(X_val)"
   ]
  },
  {
   "cell_type": "code",
   "execution_count": 294,
   "id": "c631a06b",
   "metadata": {},
   "outputs": [
    {
     "data": {
      "text/plain": [
       "0.245"
      ]
     },
     "execution_count": 294,
     "metadata": {},
     "output_type": "execute_result"
    }
   ],
   "source": [
    "rmse(y_val, y_pred)"
   ]
  },
  {
   "cell_type": "markdown",
   "id": "23c5fc43",
   "metadata": {},
   "source": [
    "> **Answer** `0.245`"
   ]
  },
  {
   "cell_type": "markdown",
   "id": "e935e92b",
   "metadata": {},
   "source": [
    "## Question 3\n",
    "\n",
    "Now let's experiment with the `n_estimators` parameter\n",
    "\n",
    "* Try different values of this parameter from 10 to 200 with step 10.\n",
    "* Set `random_state` to `1`.\n",
    "* Evaluate the model on the validation dataset.\n",
    "\n",
    "\n",
    "After which value of `n_estimators` does RMSE stop improving?\n",
    "\n",
    "- 10\n",
    "- 25\n",
    "- 50\n",
    "- 160"
   ]
  },
  {
   "cell_type": "code",
   "execution_count": 295,
   "id": "eaa14053",
   "metadata": {},
   "outputs": [],
   "source": [
    "def random_forest_regressor_evaluation():\n",
    "    scores = []\n",
    "    for estimator in range(10, 201, 10):\n",
    "        rfr = train_random_forest_regressor(X_train, y_train, \n",
    "                                            n_estimators=estimator, \n",
    "                                            random_state=1, \n",
    "                                            n_jobs=-1)\n",
    "        y_pred = rfr.predict(X_val)\n",
    "        rmse_value = rmse(y_val, y_pred)\n",
    "        scores.append((estimator, rmse_value))\n",
    "    return scores"
   ]
  },
  {
   "cell_type": "code",
   "execution_count": 296,
   "id": "bebd0ba8",
   "metadata": {},
   "outputs": [],
   "source": [
    "scores = random_forest_regressor_evaluation()"
   ]
  },
  {
   "cell_type": "code",
   "execution_count": 297,
   "id": "1987572f",
   "metadata": {},
   "outputs": [
    {
     "data": {
      "text/plain": [
       "[(10, 0.245),\n",
       " (20, 0.238),\n",
       " (30, 0.236),\n",
       " (40, 0.235),\n",
       " (50, 0.234),\n",
       " (60, 0.234),\n",
       " (70, 0.234),\n",
       " (80, 0.234),\n",
       " (90, 0.234),\n",
       " (100, 0.234),\n",
       " (110, 0.234),\n",
       " (120, 0.234),\n",
       " (130, 0.234),\n",
       " (140, 0.234),\n",
       " (150, 0.234),\n",
       " (160, 0.233),\n",
       " (170, 0.233),\n",
       " (180, 0.234),\n",
       " (190, 0.234),\n",
       " (200, 0.234)]"
      ]
     },
     "execution_count": 297,
     "metadata": {},
     "output_type": "execute_result"
    }
   ],
   "source": [
    "scores"
   ]
  },
  {
   "cell_type": "code",
   "execution_count": 298,
   "id": "5260b053",
   "metadata": {},
   "outputs": [],
   "source": [
    "df_scores = pd.DataFrame(scores, columns=['n_estimators', 'rmse'])"
   ]
  },
  {
   "cell_type": "code",
   "execution_count": 299,
   "id": "a4314e6b",
   "metadata": {},
   "outputs": [
    {
     "data": {
      "text/html": [
       "<div>\n",
       "<style scoped>\n",
       "    .dataframe tbody tr th:only-of-type {\n",
       "        vertical-align: middle;\n",
       "    }\n",
       "\n",
       "    .dataframe tbody tr th {\n",
       "        vertical-align: top;\n",
       "    }\n",
       "\n",
       "    .dataframe thead th {\n",
       "        text-align: right;\n",
       "    }\n",
       "</style>\n",
       "<table border=\"1\" class=\"dataframe\">\n",
       "  <thead>\n",
       "    <tr style=\"text-align: right;\">\n",
       "      <th></th>\n",
       "      <th>n_estimators</th>\n",
       "      <th>rmse</th>\n",
       "    </tr>\n",
       "  </thead>\n",
       "  <tbody>\n",
       "    <tr>\n",
       "      <th>0</th>\n",
       "      <td>10</td>\n",
       "      <td>0.245</td>\n",
       "    </tr>\n",
       "    <tr>\n",
       "      <th>1</th>\n",
       "      <td>20</td>\n",
       "      <td>0.238</td>\n",
       "    </tr>\n",
       "    <tr>\n",
       "      <th>2</th>\n",
       "      <td>30</td>\n",
       "      <td>0.236</td>\n",
       "    </tr>\n",
       "    <tr>\n",
       "      <th>3</th>\n",
       "      <td>40</td>\n",
       "      <td>0.235</td>\n",
       "    </tr>\n",
       "    <tr>\n",
       "      <th>4</th>\n",
       "      <td>50</td>\n",
       "      <td>0.234</td>\n",
       "    </tr>\n",
       "    <tr>\n",
       "      <th>5</th>\n",
       "      <td>60</td>\n",
       "      <td>0.234</td>\n",
       "    </tr>\n",
       "    <tr>\n",
       "      <th>6</th>\n",
       "      <td>70</td>\n",
       "      <td>0.234</td>\n",
       "    </tr>\n",
       "    <tr>\n",
       "      <th>7</th>\n",
       "      <td>80</td>\n",
       "      <td>0.234</td>\n",
       "    </tr>\n",
       "    <tr>\n",
       "      <th>8</th>\n",
       "      <td>90</td>\n",
       "      <td>0.234</td>\n",
       "    </tr>\n",
       "    <tr>\n",
       "      <th>9</th>\n",
       "      <td>100</td>\n",
       "      <td>0.234</td>\n",
       "    </tr>\n",
       "    <tr>\n",
       "      <th>10</th>\n",
       "      <td>110</td>\n",
       "      <td>0.234</td>\n",
       "    </tr>\n",
       "    <tr>\n",
       "      <th>11</th>\n",
       "      <td>120</td>\n",
       "      <td>0.234</td>\n",
       "    </tr>\n",
       "    <tr>\n",
       "      <th>12</th>\n",
       "      <td>130</td>\n",
       "      <td>0.234</td>\n",
       "    </tr>\n",
       "    <tr>\n",
       "      <th>13</th>\n",
       "      <td>140</td>\n",
       "      <td>0.234</td>\n",
       "    </tr>\n",
       "    <tr>\n",
       "      <th>14</th>\n",
       "      <td>150</td>\n",
       "      <td>0.234</td>\n",
       "    </tr>\n",
       "    <tr>\n",
       "      <th>15</th>\n",
       "      <td>160</td>\n",
       "      <td>0.233</td>\n",
       "    </tr>\n",
       "    <tr>\n",
       "      <th>16</th>\n",
       "      <td>170</td>\n",
       "      <td>0.233</td>\n",
       "    </tr>\n",
       "    <tr>\n",
       "      <th>17</th>\n",
       "      <td>180</td>\n",
       "      <td>0.234</td>\n",
       "    </tr>\n",
       "    <tr>\n",
       "      <th>18</th>\n",
       "      <td>190</td>\n",
       "      <td>0.234</td>\n",
       "    </tr>\n",
       "    <tr>\n",
       "      <th>19</th>\n",
       "      <td>200</td>\n",
       "      <td>0.234</td>\n",
       "    </tr>\n",
       "  </tbody>\n",
       "</table>\n",
       "</div>"
      ],
      "text/plain": [
       "    n_estimators   rmse\n",
       "0             10  0.245\n",
       "1             20  0.238\n",
       "2             30  0.236\n",
       "3             40  0.235\n",
       "4             50  0.234\n",
       "5             60  0.234\n",
       "6             70  0.234\n",
       "7             80  0.234\n",
       "8             90  0.234\n",
       "9            100  0.234\n",
       "10           110  0.234\n",
       "11           120  0.234\n",
       "12           130  0.234\n",
       "13           140  0.234\n",
       "14           150  0.234\n",
       "15           160  0.233\n",
       "16           170  0.233\n",
       "17           180  0.234\n",
       "18           190  0.234\n",
       "19           200  0.234"
      ]
     },
     "execution_count": 299,
     "metadata": {},
     "output_type": "execute_result"
    }
   ],
   "source": [
    "df_scores"
   ]
  },
  {
   "cell_type": "code",
   "execution_count": 300,
   "id": "f8f97c3c",
   "metadata": {},
   "outputs": [
    {
     "data": {
      "text/plain": [
       "[<matplotlib.lines.Line2D at 0x7fc060cd4730>]"
      ]
     },
     "execution_count": 300,
     "metadata": {},
     "output_type": "execute_result"
    },
    {
     "data": {
      "image/png": "[encoded data removed]",
      "text/plain": [
       "<Figure size 640x480 with 1 Axes>"
      ]
     },
     "metadata": {},
     "output_type": "display_data"
    }
   ],
   "source": [
    "from matplotlib import pyplot as plt \n",
    "plt.plot(df_scores.n_estimators, df_scores.rmse)"
   ]
  },
  {
   "cell_type": "markdown",
   "id": "1c02ef82",
   "metadata": {},
   "source": [
    "> **Answer** `160`"
   ]
  },
  {
   "cell_type": "markdown",
   "id": "dfa14673",
   "metadata": {},
   "source": [
    "## Question 4\n",
    "\n",
    "Let's select the best `max_depth`:\n",
    "\n",
    "* Try different values of `max_depth`: `[10, 15, 20, 25]`\n",
    "* For each of these values, try different values of `n_estimators` from 10 till 200 (with step 10)\n",
    "* Fix the random seed: `random_state=1`\n",
    "\n",
    "\n",
    "What's the best `max_depth`:\n",
    "\n",
    "* 10\n",
    "* 15\n",
    "* 20\n",
    "* 25"
   ]
  },
  {
   "cell_type": "code",
   "execution_count": 301,
   "id": "31647d86",
   "metadata": {},
   "outputs": [],
   "source": [
    "def train_random_forest_regressor(X, y, **kwargs):\n",
    "    n_estimators = kwargs.get('n_estimators', 100)  # Default value is 100 if not provided\n",
    "    random_state = kwargs.get('random_state', None)  # Default value is None if not provided\n",
    "    n_jobs = kwargs.get('n_jobs', 1)  # Default value is 1 if not provided\n",
    "    max_depth = kwargs.get('max_depth', None)  # Default value is None if not provided\n",
    "\n",
    "\n",
    "    rfr = RandomForestRegressor(n_estimators = n_estimators, \n",
    "                                random_state = random_state, \n",
    "                                n_jobs = n_jobs,\n",
    "                                max_depth = max_depth)\n",
    "    rfr.fit(X, y)\n",
    "    return rfr"
   ]
  },
  {
   "cell_type": "code",
   "execution_count": 302,
   "id": "67556052",
   "metadata": {},
   "outputs": [],
   "source": [
    "def random_forest_regressor_evaluation():\n",
    "    scores = []\n",
    "    for max_depth in [10, 15, 20, 25]:\n",
    "        for estimator in range(10, 201, 10):\n",
    "            rfr = train_random_forest_regressor(X_train, y_train, \n",
    "                                                n_estimators=estimator, \n",
    "                                                random_state=1, \n",
    "                                                n_jobs=-1,\n",
    "                                                max_depth=max_depth)\n",
    "            y_pred = rfr.predict(X_val)\n",
    "            rmse_value = rmse(y_val, y_pred)\n",
    "            scores.append((max_depth, estimator, rmse_value))\n",
    "    return scores"
   ]
  },
  {
   "cell_type": "code",
   "execution_count": 303,
   "id": "4f1987b3",
   "metadata": {},
   "outputs": [],
   "source": [
    "scores = random_forest_regressor_evaluation()"
   ]
  },
  {
   "cell_type": "code",
   "execution_count": 307,
   "id": "0f3a7a70",
   "metadata": {},
   "outputs": [],
   "source": [
    "columns = ['max_depth', 'estimator', 'acc']\n",
    "df_scores = pd.DataFrame(scores, columns=columns)"
   ]
  },
  {
   "cell_type": "code",
   "execution_count": 308,
   "id": "983e6db2",
   "metadata": {},
   "outputs": [
    {
     "data": {
      "text/html": [
       "<div>\n",
       "<style scoped>\n",
       "    .dataframe tbody tr th:only-of-type {\n",
       "        vertical-align: middle;\n",
       "    }\n",
       "\n",
       "    .dataframe tbody tr th {\n",
       "        vertical-align: top;\n",
       "    }\n",
       "\n",
       "    .dataframe thead tr th {\n",
       "        text-align: left;\n",
       "    }\n",
       "\n",
       "    .dataframe thead tr:last-of-type th {\n",
       "        text-align: right;\n",
       "    }\n",
       "</style>\n",
       "<table border=\"1\" class=\"dataframe\">\n",
       "  <thead>\n",
       "    <tr>\n",
       "      <th></th>\n",
       "      <th colspan=\"4\" halign=\"left\">acc</th>\n",
       "    </tr>\n",
       "    <tr>\n",
       "      <th>max_depth</th>\n",
       "      <th>10</th>\n",
       "      <th>15</th>\n",
       "      <th>20</th>\n",
       "      <th>25</th>\n",
       "    </tr>\n",
       "    <tr>\n",
       "      <th>estimator</th>\n",
       "      <th></th>\n",
       "      <th></th>\n",
       "      <th></th>\n",
       "      <th></th>\n",
       "    </tr>\n",
       "  </thead>\n",
       "  <tbody>\n",
       "    <tr>\n",
       "      <th>10</th>\n",
       "      <td>0.251</td>\n",
       "      <td>0.246</td>\n",
       "      <td>0.245</td>\n",
       "      <td>0.244</td>\n",
       "    </tr>\n",
       "    <tr>\n",
       "      <th>20</th>\n",
       "      <td>0.247</td>\n",
       "      <td>0.239</td>\n",
       "      <td>0.238</td>\n",
       "      <td>0.238</td>\n",
       "    </tr>\n",
       "    <tr>\n",
       "      <th>30</th>\n",
       "      <td>0.246</td>\n",
       "      <td>0.237</td>\n",
       "      <td>0.236</td>\n",
       "      <td>0.236</td>\n",
       "    </tr>\n",
       "    <tr>\n",
       "      <th>40</th>\n",
       "      <td>0.245</td>\n",
       "      <td>0.236</td>\n",
       "      <td>0.235</td>\n",
       "      <td>0.234</td>\n",
       "    </tr>\n",
       "    <tr>\n",
       "      <th>50</th>\n",
       "      <td>0.246</td>\n",
       "      <td>0.236</td>\n",
       "      <td>0.234</td>\n",
       "      <td>0.235</td>\n",
       "    </tr>\n",
       "    <tr>\n",
       "      <th>60</th>\n",
       "      <td>0.245</td>\n",
       "      <td>0.236</td>\n",
       "      <td>0.234</td>\n",
       "      <td>0.234</td>\n",
       "    </tr>\n",
       "    <tr>\n",
       "      <th>70</th>\n",
       "      <td>0.245</td>\n",
       "      <td>0.235</td>\n",
       "      <td>0.234</td>\n",
       "      <td>0.234</td>\n",
       "    </tr>\n",
       "    <tr>\n",
       "      <th>80</th>\n",
       "      <td>0.246</td>\n",
       "      <td>0.236</td>\n",
       "      <td>0.235</td>\n",
       "      <td>0.234</td>\n",
       "    </tr>\n",
       "    <tr>\n",
       "      <th>90</th>\n",
       "      <td>0.245</td>\n",
       "      <td>0.235</td>\n",
       "      <td>0.234</td>\n",
       "      <td>0.234</td>\n",
       "    </tr>\n",
       "    <tr>\n",
       "      <th>100</th>\n",
       "      <td>0.245</td>\n",
       "      <td>0.235</td>\n",
       "      <td>0.234</td>\n",
       "      <td>0.234</td>\n",
       "    </tr>\n",
       "    <tr>\n",
       "      <th>110</th>\n",
       "      <td>0.245</td>\n",
       "      <td>0.235</td>\n",
       "      <td>0.234</td>\n",
       "      <td>0.234</td>\n",
       "    </tr>\n",
       "    <tr>\n",
       "      <th>120</th>\n",
       "      <td>0.245</td>\n",
       "      <td>0.235</td>\n",
       "      <td>0.234</td>\n",
       "      <td>0.234</td>\n",
       "    </tr>\n",
       "    <tr>\n",
       "      <th>130</th>\n",
       "      <td>0.245</td>\n",
       "      <td>0.235</td>\n",
       "      <td>0.234</td>\n",
       "      <td>0.234</td>\n",
       "    </tr>\n",
       "    <tr>\n",
       "      <th>140</th>\n",
       "      <td>0.245</td>\n",
       "      <td>0.235</td>\n",
       "      <td>0.234</td>\n",
       "      <td>0.234</td>\n",
       "    </tr>\n",
       "    <tr>\n",
       "      <th>150</th>\n",
       "      <td>0.245</td>\n",
       "      <td>0.234</td>\n",
       "      <td>0.233</td>\n",
       "      <td>0.233</td>\n",
       "    </tr>\n",
       "    <tr>\n",
       "      <th>160</th>\n",
       "      <td>0.244</td>\n",
       "      <td>0.234</td>\n",
       "      <td>0.233</td>\n",
       "      <td>0.233</td>\n",
       "    </tr>\n",
       "    <tr>\n",
       "      <th>170</th>\n",
       "      <td>0.244</td>\n",
       "      <td>0.234</td>\n",
       "      <td>0.233</td>\n",
       "      <td>0.233</td>\n",
       "    </tr>\n",
       "    <tr>\n",
       "      <th>180</th>\n",
       "      <td>0.244</td>\n",
       "      <td>0.234</td>\n",
       "      <td>0.234</td>\n",
       "      <td>0.234</td>\n",
       "    </tr>\n",
       "    <tr>\n",
       "      <th>190</th>\n",
       "      <td>0.245</td>\n",
       "      <td>0.235</td>\n",
       "      <td>0.234</td>\n",
       "      <td>0.234</td>\n",
       "    </tr>\n",
       "    <tr>\n",
       "      <th>200</th>\n",
       "      <td>0.245</td>\n",
       "      <td>0.235</td>\n",
       "      <td>0.234</td>\n",
       "      <td>0.234</td>\n",
       "    </tr>\n",
       "  </tbody>\n",
       "</table>\n",
       "</div>"
      ],
      "text/plain": [
       "             acc                     \n",
       "max_depth     10     15     20     25\n",
       "estimator                            \n",
       "10         0.251  0.246  0.245  0.244\n",
       "20         0.247  0.239  0.238  0.238\n",
       "30         0.246  0.237  0.236  0.236\n",
       "40         0.245  0.236  0.235  0.234\n",
       "50         0.246  0.236  0.234  0.235\n",
       "60         0.245  0.236  0.234  0.234\n",
       "70         0.245  0.235  0.234  0.234\n",
       "80         0.246  0.236  0.235  0.234\n",
       "90         0.245  0.235  0.234  0.234\n",
       "100        0.245  0.235  0.234  0.234\n",
       "110        0.245  0.235  0.234  0.234\n",
       "120        0.245  0.235  0.234  0.234\n",
       "130        0.245  0.235  0.234  0.234\n",
       "140        0.245  0.235  0.234  0.234\n",
       "150        0.245  0.234  0.233  0.233\n",
       "160        0.244  0.234  0.233  0.233\n",
       "170        0.244  0.234  0.233  0.233\n",
       "180        0.244  0.234  0.234  0.234\n",
       "190        0.245  0.235  0.234  0.234\n",
       "200        0.245  0.235  0.234  0.234"
      ]
     },
     "execution_count": 308,
     "metadata": {},
     "output_type": "execute_result"
    }
   ],
   "source": [
    "df_scores_pivot = df_scores.pivot(index='estimator', columns=['max_depth'], values=['acc'])\n",
    "df_scores_pivot"
   ]
  },
  {
   "cell_type": "code",
   "execution_count": 309,
   "id": "b7e37c7b",
   "metadata": {},
   "outputs": [
    {
     "data": {
      "text/plain": [
       "<Axes: xlabel='None-max_depth', ylabel='estimator'>"
      ]
     },
     "execution_count": 309,
     "metadata": {},
     "output_type": "execute_result"
    },
    {
     "data": {
      "image/png": "[encoded data removed]",
      "text/plain": [
       "<Figure size 640x480 with 2 Axes>"
      ]
     },
     "metadata": {},
     "output_type": "display_data"
    }
   ],
   "source": [
    "import seaborn as sns\n",
    "sns.heatmap(df_scores_pivot, annot=True, fmt=\".5f\")"
   ]
  },
  {
   "cell_type": "markdown",
   "id": "e2473ce3",
   "metadata": {},
   "source": [
    "> **Answer** `max_depth = 25`"
   ]
  },
  {
   "cell_type": "markdown",
   "id": "ff569866",
   "metadata": {},
   "source": [
    "# Question 5\n",
    "\n",
    "We can extract feature importance information from tree-based models. \n",
    "\n",
    "At each step of the decision tree learning algorith, it finds the best split. \n",
    "When doint it, we can calculate \"gain\" - the reduction in impurity before and after the split. \n",
    "This gain is quite useful in understanding what are the imporatant features \n",
    "for tree-based models.\n",
    "\n",
    "In Scikit-Learn, tree-based models contain this information in the\n",
    "[`feature_importances_`](https://scikit-learn.org/stable/modules/generated/sklearn.ensemble.RandomForestRegressor.html#sklearn.ensemble.RandomForestRegressor.feature_importances_)\n",
    "field. \n",
    "\n",
    "For this homework question, we'll find the most important feature:\n",
    "\n",
    "* Train the model with these parametes:\n",
    "    * `n_estimators=10`,\n",
    "    * `max_depth=20`,\n",
    "    * `random_state=1`,\n",
    "    * `n_jobs=-1` (optional)\n",
    "* Get the feature importance information from this model\n",
    "\n",
    "\n",
    "What's the most important feature? \n",
    "\n",
    "* `total_rooms`\n",
    "* `median_income`\t\n",
    "* `total_bedrooms`\n",
    "* `longitude`"
   ]
  },
  {
   "cell_type": "code",
   "execution_count": 310,
   "id": "8401af3c",
   "metadata": {},
   "outputs": [],
   "source": [
    "rfr = train_random_forest_regressor(X_train, y_train, \n",
    "                                    n_estimators=10, \n",
    "                                    random_state=1, \n",
    "                                    n_jobs=-1,\n",
    "                                    max_depth=20)"
   ]
  },
  {
   "cell_type": "code",
   "execution_count": 311,
   "id": "44a74e7b",
   "metadata": {},
   "outputs": [],
   "source": [
    "feature_importance = rfr.feature_importances_"
   ]
  },
  {
   "cell_type": "code",
   "execution_count": 312,
   "id": "352bb0de",
   "metadata": {},
   "outputs": [],
   "source": [
    "feature_list = list(dv.get_feature_names_out())"
   ]
  },
  {
   "cell_type": "code",
   "execution_count": 313,
   "id": "42b0a6d7",
   "metadata": {},
   "outputs": [
    {
     "name": "stdout",
     "output_type": "stream",
     "text": [
      "households: 0.014904780264590167\n",
      "housing_median_age: 0.03004269417873657\n",
      "latitude: 0.10271687386164392\n",
      "longitude: 0.08579061141056853\n",
      "median_income: 0.3355070433470429\n",
      "ocean_proximity=<1H OCEAN: 0.21881985433078338\n",
      "ocean_proximity=INLAND: 0.1474595540682817\n",
      "population: 0.02821150531672544\n",
      "total_bedrooms: 0.015227641883313336\n",
      "total_rooms: 0.02131944133831403\n"
     ]
    }
   ],
   "source": [
    "for feature, importance in zip(feature_list, feature_importance):\n",
    "    print(f\"{feature}: {importance}\")"
   ]
  },
  {
   "cell_type": "markdown",
   "id": "609c162d",
   "metadata": {},
   "source": [
    "> **Answer** `median_income: 0.3355070433470429`"
   ]
  },
  {
   "cell_type": "markdown",
   "id": "9a8745ad",
   "metadata": {},
   "source": [
    "## Question 6\n",
    "\n",
    "Now let's train an XGBoost model! For this question, we'll tune the `eta` parameter:\n",
    "\n",
    "* Install XGBoost\n",
    "* Create DMatrix for train and validation\n",
    "* Create a watchlist\n",
    "* Train a model with these parameters for 100 rounds:\n",
    "\n",
    "```\n",
    "xgb_params = {\n",
    "    'eta': 0.3, \n",
    "    'max_depth': 6,\n",
    "    'min_child_weight': 1,\n",
    "    \n",
    "    'objective': 'reg:squarederror',\n",
    "    'nthread': 8,\n",
    "    \n",
    "    'seed': 1,\n",
    "    'verbosity': 1,\n",
    "}\n",
    "```\n",
    "\n",
    "Now change `eta` from `0.3` to `0.1`.\n",
    "\n",
    "Which eta leads to the best RMSE score on the validation dataset?\n",
    "\n",
    "* 0.3\n",
    "* 0.1\n",
    "* Both gives same"
   ]
  },
  {
   "cell_type": "markdown",
   "id": "8afffd29",
   "metadata": {},
   "source": [
    "### Install XGBoost"
   ]
  },
  {
   "cell_type": "code",
   "execution_count": 315,
   "id": "8be13943",
   "metadata": {},
   "outputs": [
    {
     "name": "stdout",
     "output_type": "stream",
     "text": [
      "Requirement already satisfied: xgboost in /usr/local/anaconda3/lib/python3.10/site-packages (1.7.5)\n",
      "Requirement already satisfied: numpy in /usr/local/anaconda3/lib/python3.10/site-packages (from xgboost) (1.25.1)\n",
      "Requirement already satisfied: scipy in /usr/local/anaconda3/lib/python3.10/site-packages (from xgboost) (1.11.1)\n",
      "\n",
      "\u001b[1m[\u001b[0m\u001b[34;49mnotice\u001b[0m\u001b[1;39;49m]\u001b[0m\u001b[39;49m A new release of pip is available: \u001b[0m\u001b[31;49m23.2.1\u001b[0m\u001b[39;49m -> \u001b[0m\u001b[32;49m23.3\u001b[0m\n",
      "\u001b[1m[\u001b[0m\u001b[34;49mnotice\u001b[0m\u001b[1;39;49m]\u001b[0m\u001b[39;49m To update, run: \u001b[0m\u001b[32;49mpip install --upgrade pip\u001b[0m\n"
     ]
    }
   ],
   "source": [
    "!pip install xgboost"
   ]
  },
  {
   "cell_type": "markdown",
   "id": "bb67cdb5",
   "metadata": {},
   "source": [
    "### Create DMatrix for train and validation"
   ]
  },
  {
   "cell_type": "code",
   "execution_count": 316,
   "id": "dd1f82bd",
   "metadata": {},
   "outputs": [
    {
     "data": {
      "text/plain": [
       "array(['households', 'housing_median_age', 'latitude', 'longitude',\n",
       "       'median_income', 'ocean_proximity=<1H OCEAN',\n",
       "       'ocean_proximity=INLAND', 'population', 'total_bedrooms',\n",
       "       'total_rooms'], dtype=object)"
      ]
     },
     "execution_count": 316,
     "metadata": {},
     "output_type": "execute_result"
    }
   ],
   "source": [
    "features = dv.get_feature_names_out()\n",
    "features"
   ]
  },
  {
   "cell_type": "code",
   "execution_count": 317,
   "id": "667dc188",
   "metadata": {},
   "outputs": [],
   "source": [
    "features = ['households', 'housing_median_age', 'latitude', 'longitude',\n",
    "       'median_income', 'ocean_proximity_1H_OCEAN',\n",
    "       'ocean_proximity_INLAND', 'population', 'total_bedrooms',\n",
    "       'total_rooms']"
   ]
  },
  {
   "cell_type": "code",
   "execution_count": 318,
   "id": "a1b36f94",
   "metadata": {},
   "outputs": [],
   "source": [
    "import xgboost as xgb\n",
    "dtrain = xgb.DMatrix(X_train, label=y_train, feature_names=features)\n",
    "dval = xgb.DMatrix(X_val, label=y_val, feature_names=features)"
   ]
  },
  {
   "cell_type": "code",
   "execution_count": 319,
   "id": "57a0f567",
   "metadata": {},
   "outputs": [
    {
     "name": "stdout",
     "output_type": "stream",
     "text": [
      "eta: 0.1, rmse : 0.232\n",
      "eta: 0.2, rmse : 0.228\n",
      "eta: 0.3, rmse : 0.229\n"
     ]
    }
   ],
   "source": [
    "for eta in range (1, 4, 1):\n",
    "    eta_value = round(eta * 0.1, 1)\n",
    "    xgb_params = {\n",
    "        'eta': eta_value, \n",
    "        'max_depth': 6,\n",
    "        'min_child_weight': 1,\n",
    "\n",
    "        'objective': 'reg:squarederror',\n",
    "        'nthread': 8,\n",
    "\n",
    "        'seed': 1,\n",
    "        'verbosity': 1,\n",
    "    }\n",
    "\n",
    "    model = xgb.train(xgb_params, dtrain, num_boost_round=100)\n",
    "    y_pred = model.predict(dval)\n",
    "    rmse_value = rmse(y_val, y_pred)\n",
    "    print(f\"eta: {eta_value}, rmse : {rmse_value}\")"
   ]
  },
  {
   "cell_type": "markdown",
   "id": "8e5f37ca",
   "metadata": {},
   "source": [
    "> **Answer** `eta: 0.3, rmse : 0.229`"
   ]
  },
  {
   "cell_type": "code",
   "execution_count": null,
   "id": "bb82cf0c",
   "metadata": {},
   "outputs": [],
   "source": []
  }
 ],
 "metadata": {
  "kernelspec": {
   "display_name": "Python 3 (ipykernel)",
   "language": "python",
   "name": "python3"
  },
  "language_info": {
   "codemirror_mode": {
    "name": "ipython",
    "version": 3
   },
   "file_extension": ".py",
   "mimetype": "text/x-python",
   "name": "python",
   "nbconvert_exporter": "python",
   "pygments_lexer": "ipython3",
   "version": "3.10.9"
  }
 },
 "nbformat": 4,
 "nbformat_minor": 5
}
